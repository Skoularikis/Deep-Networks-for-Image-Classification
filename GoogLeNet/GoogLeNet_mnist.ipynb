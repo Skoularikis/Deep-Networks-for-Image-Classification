{
 "cells": [
  {
   "cell_type": "code",
   "execution_count": 1,
   "metadata": {
    "id": "S-nKP57j32Xb"
   },
   "outputs": [],
   "source": [
    "import matplotlib.pyplot as plt\n",
    "import numpy as np\n",
    "import torch\n",
    "import torch.nn as nn\n",
    "import torchvision\n",
    "import torchvision.datasets as datasets\n",
    "import torchvision.transforms as transforms\n",
    "from torch.utils.data import DataLoader\n",
    "import os\n",
    "import copy\n",
    "from sklearn.metrics import confusion_matrix\n",
    "from sklearn.metrics import ConfusionMatrixDisplay\n",
    "import torch.nn.functional as F\n",
    "from sklearn import decomposition\n",
    "from sklearn import manifold\n",
    "import time\n",
    "import random"
   ]
  },
  {
   "cell_type": "code",
   "execution_count": 2,
   "metadata": {
    "colab": {
     "base_uri": "https://localhost:8080/"
    },
    "id": "TpIJevuIxkic",
    "outputId": "d4b94d4b-e703-4cec-975f-a7c24041e41d"
   },
   "outputs": [
    {
     "name": "stdout",
     "output_type": "stream",
     "text": [
      "1.8.1\n"
     ]
    }
   ],
   "source": [
    "print(torch.__version__)"
   ]
  },
  {
   "cell_type": "code",
   "execution_count": 3,
   "metadata": {
    "colab": {
     "base_uri": "https://localhost:8080/"
    },
    "id": "cMo8l7DNzzrU",
    "outputId": "c4bd35e8-3e3b-4b56-df00-76e3b570bf5c"
   },
   "outputs": [
    {
     "name": "stdout",
     "output_type": "stream",
     "text": [
      "Python 3.8.8\n"
     ]
    }
   ],
   "source": [
    "!python3 -V"
   ]
  },
  {
   "cell_type": "markdown",
   "metadata": {
    "id": "Bgl8winQ1m3s"
   },
   "source": [
    "# Helpers"
   ]
  },
  {
   "cell_type": "markdown",
   "metadata": {
    "id": "bKqKe_kr1m3t"
   },
   "source": [
    "## General"
   ]
  },
  {
   "cell_type": "code",
   "execution_count": 4,
   "metadata": {
    "id": "r7lwVrfm87fO"
   },
   "outputs": [],
   "source": [
    "path_first_model = 'googLenet_mnist.pth'\n",
    "path_improved_model = 'googLenet_improved_mnist.pth'"
   ]
  },
  {
   "cell_type": "code",
   "execution_count": 5,
   "metadata": {
    "colab": {
     "base_uri": "https://localhost:8080/"
    },
    "id": "km7EN_yt1m3u",
    "outputId": "cd7e1ffd-0b90-4ebe-e684-0f3ad6434d01"
   },
   "outputs": [
    {
     "data": {
      "text/plain": [
       "device(type='cpu')"
      ]
     },
     "execution_count": 5,
     "metadata": {},
     "output_type": "execute_result"
    }
   ],
   "source": [
    "data_dir = '../CV_Data'\n",
    "batch_size=128\n",
    "device = torch.device(\"cuda:0\" if torch.cuda.is_available() else \"cpu\")\n",
    "device"
   ]
  },
  {
   "cell_type": "code",
   "execution_count": 6,
   "metadata": {
    "id": "W1_-7Q_fbaRV"
   },
   "outputs": [],
   "source": [
    "def count_parameters(model):\n",
    "    return sum(p.numel() for p in model.parameters() if p.requires_grad)"
   ]
  },
  {
   "cell_type": "code",
   "execution_count": 7,
   "metadata": {
    "id": "bFaMKY6W1m3w"
   },
   "outputs": [],
   "source": [
    "def normalize_data(train_set,three_channels=False):\n",
    "    print(train_set.data.shape)\n",
    "    mean, std = train_set.data.float().mean()/255, train_set.data.float().std()/255\n",
    "    print('Mean:', mean)\n",
    "    print('Std: ', std)\n",
    "    return transforms.Normalize(mean=(mean.item(),),std=(std.item(),))"
   ]
  },
  {
   "cell_type": "code",
   "execution_count": 8,
   "metadata": {
    "id": "QU6rWA6FQ-9I"
   },
   "outputs": [],
   "source": [
    "def save_model(model, path):\n",
    "  torch.save(model.state_dict(), path)"
   ]
  },
  {
   "cell_type": "code",
   "execution_count": 9,
   "metadata": {
    "id": "h5xm6lCDRJFY"
   },
   "outputs": [],
   "source": [
    "def load_model(model, path):\n",
    "  model.load_state_dict(torch.load(path))"
   ]
  },
  {
   "cell_type": "markdown",
   "metadata": {
    "id": "89Nmw2OSp97t",
    "outputId": "cb2b9b7e-0cb9-4466-f722-429d4b5a305f"
   },
   "source": [
    "## Dataset"
   ]
  },
  {
   "cell_type": "code",
   "execution_count": 10,
   "metadata": {
    "id": "4SXn20_zd4HH"
   },
   "outputs": [],
   "source": [
    "def load_mnist(train_transforms, val_test_transforms):\n",
    "    download = False\n",
    "    if os.path.isdir(data_dir + '/' + 'MNIST') == False:\n",
    "      download = True\n",
    "\n",
    "    train_data = datasets.MNIST(root=data_dir, train=True, download=download, transform=train_transforms)\n",
    "    test_data = datasets.MNIST(root=data_dir, train=False, download=download, transform=val_test_transforms)\n",
    "    print(\"Training dataset:\", train_data)\n",
    "    print(\"Test dataset:\", test_data)\n",
    "    return train_data, test_data"
   ]
  },
  {
   "cell_type": "code",
   "execution_count": 11,
   "metadata": {
    "id": "ZVpNVEOE1m3y"
   },
   "outputs": [],
   "source": [
    "def get_classes(dataset):\n",
    "    return dataset.classes"
   ]
  },
  {
   "cell_type": "code",
   "execution_count": 12,
   "metadata": {
    "id": "-HfX3vmT1m3y"
   },
   "outputs": [],
   "source": [
    "def get_train_val_sets(train_data):\n",
    "    train_set, val_set = torch.utils.data.random_split(train_data, [50000, 10000])\n",
    "    return train_set, val_set"
   ]
  },
  {
   "cell_type": "markdown",
   "metadata": {
    "id": "TmQ_8gOy1m3z"
   },
   "source": [
    "## Visualization"
   ]
  },
  {
   "cell_type": "code",
   "execution_count": 13,
   "metadata": {
    "id": "dZgFtQiSNCXq"
   },
   "outputs": [],
   "source": [
    "def normalize_image(image):\n",
    "    image_min = image.min()\n",
    "    image_max = image.max()\n",
    "    image.clamp_(min = image_min, max = image_max)\n",
    "    image.add_(-image_min).div_(image_max - image_min + 1e-5)\n",
    "    return image"
   ]
  },
  {
   "cell_type": "markdown",
   "metadata": {
    "id": "585raj7I1m30"
   },
   "source": [
    "### Visualize images with classes"
   ]
  },
  {
   "cell_type": "code",
   "execution_count": 14,
   "metadata": {
    "id": "YVXHelOZ1m30"
   },
   "outputs": [],
   "source": [
    "def visualize_images_from_dataset(dataset):\n",
    "    figure = plt.figure(figsize=(8, 8))\n",
    "    cols, rows = 3, 3\n",
    "    for i in range(1, cols * rows + 1):\n",
    "        sample_idx = torch.randint(len(dataset), size=(1,)).item()\n",
    "        img, label = dataset[sample_idx]\n",
    "        figure.add_subplot(rows, cols, i)\n",
    "        plt.title(label)\n",
    "        plt.axis(\"off\")\n",
    "        plt.imshow(img.squeeze(), cmap=\"gray\")\n",
    "    plt.show()"
   ]
  },
  {
   "cell_type": "code",
   "execution_count": 15,
   "metadata": {
    "id": "cZCTR1Lx1m31"
   },
   "outputs": [],
   "source": [
    "def visualize_images_from_loader(loader):\n",
    "    figure = plt.figure(figsize=(8, 8))\n",
    "    cols, rows = 3, 3\n",
    "\n",
    "    train_features, train_labels = next(iter(loader))\n",
    "\n",
    "    print(f\"Feature batch shape: {train_features.size()}\")\n",
    "    print(f\"Labels batch shape: {train_labels.size()}\")\n",
    "    for i in range(1,10):\n",
    "      img = train_features[i].squeeze()\n",
    "      label = train_labels[i]\n",
    "      figure.add_subplot(rows, cols, i)\n",
    "      plt.title(label.item())\n",
    "      plt.axis(\"off\")\n",
    "      plt.imshow(img, cmap=\"gray\")\n",
    "    plt.show()"
   ]
  },
  {
   "cell_type": "code",
   "execution_count": 16,
   "metadata": {
    "id": "FCvvrTDn1m32"
   },
   "outputs": [],
   "source": [
    "def get_10_sample_of_the_same_class(class_name, dataset):\n",
    "    sample = []\n",
    "    while len(sample) < 10:\n",
    "        sample_idx = torch.randint(len(dataset), size=(1,)).item()\n",
    "        img, label = dataset[sample_idx]\n",
    "        if classes[label] == class_name:\n",
    "            sample.append((img,label))\n",
    "    return sample"
   ]
  },
  {
   "cell_type": "code",
   "execution_count": 17,
   "metadata": {
    "id": "X3r1qVuy1m32"
   },
   "outputs": [],
   "source": [
    "def plot_sample_same_class(class_name, dataset):\n",
    "    figure = plt.figure(figsize=(8, 8))\n",
    "    cols, rows = 3, 3\n",
    "    \n",
    "    sample = get_10_sample_of_the_same_class(class_name, dataset)\n",
    "    for i in range(1, cols * rows + 1):\n",
    "        img, label = sample[i]\n",
    "        figure.add_subplot(rows, cols, i)\n",
    "        plt.title(classes[label])\n",
    "        plt.axis(\"off\")\n",
    "        plt.imshow(img.squeeze(), cmap=\"gray\")\n",
    "    plt.show()"
   ]
  },
  {
   "cell_type": "markdown",
   "metadata": {
    "id": "onGF8Lhx1m34"
   },
   "source": [
    "### Metrics"
   ]
  },
  {
   "cell_type": "code",
   "execution_count": 18,
   "metadata": {
    "id": "wjWNUbZ11m35"
   },
   "outputs": [],
   "source": [
    "def plot_results(e, h, info, name):\n",
    "    epochs_range = [i for i in range(e)]\n",
    "\n",
    "    fig, (loss_plot, acc_plot) = plt.subplots(1, 2, figsize =(12,4))\n",
    "\n",
    "    loss_plot.plot(epochs_range, h['train_loss'], color='red', label='train loss')\n",
    "    loss_plot.plot(epochs_range, h['val_loss'], color='green', label='val loss')\n",
    "    loss_plot.set_title('Epochs - Loss | {}'.format(info))\n",
    "    loss_plot.legend()\n",
    "\n",
    "    acc_plot.plot(epochs_range, h['train_acc'], color='red', label='train acc')\n",
    "    acc_plot.plot(epochs_range, h['val_acc'], color='green', label='val acc')\n",
    "    acc_plot.set_title('Epochs - Accuracy | {}'.format(info))\n",
    "    acc_plot.legend()\n",
    "    plt.savefig(name)\n",
    "    plt.show()"
   ]
  },
  {
   "cell_type": "code",
   "execution_count": 19,
   "metadata": {
    "id": "jS0dA_zW1m35"
   },
   "outputs": [],
   "source": [
    "def plot_confusion_matrix(labels, pred_labels, classes):\n",
    "    fig = plt.figure(figsize = (10, 10));\n",
    "    ax = fig.add_subplot(1, 1, 1);\n",
    "    conf_matrix = confusion_matrix(labels, pred_labels);\n",
    "    cm = ConfusionMatrixDisplay(conf_matrix, display_labels = classes);\n",
    "    cm.plot(values_format = 'd', cmap = 'Blues', ax = ax)\n",
    "    plt.xticks(rotation = 20)\n",
    "    return conf_matrix"
   ]
  },
  {
   "cell_type": "code",
   "execution_count": 20,
   "metadata": {
    "id": "o0Tg7JQyNJfl"
   },
   "outputs": [],
   "source": [
    "def get_accuracy_for_specific_labels(class_label,conf_matrix):\n",
    "  position_in_dict = np.argmax(conf_matrix[class_label])\n",
    "  return np.sum(conf_matrix.diagonal()[position_in_dict]/np.sum(conf_matrix[position_in_dict]))"
   ]
  },
  {
   "cell_type": "code",
   "execution_count": 21,
   "metadata": {
    "id": "t6rASyU6NKHE"
   },
   "outputs": [],
   "source": [
    "def show_per_class_accuracies():\n",
    "    per_class_accuracies = []\n",
    "    for idx,c in enumerate(classes):\n",
    "        class_acc = get_accuracy_for_specific_labels(idx,cm)\n",
    "        print(c + \" class accuracy:\", class_acc*100)\n",
    "        per_class_accuracies.append((class_acc,idx))\n",
    "    return per_class_accuracies"
   ]
  },
  {
   "cell_type": "markdown",
   "metadata": {
    "id": "QxM3fF3eNNNK"
   },
   "source": [
    "### Incorrect Examples"
   ]
  },
  {
   "cell_type": "code",
   "execution_count": 22,
   "metadata": {
    "id": "RFUtrF8_NP8E"
   },
   "outputs": [],
   "source": [
    "def get_incorrect_examples(cm, per_class_accuracies):\n",
    "    five_top_incorrect_classes = sorted(per_class_accuracies, key=lambda acc: acc[0])[:5]\n",
    "    img_labels_preds_idx = []\n",
    "    for acc,idx in five_top_incorrect_classes:\n",
    "        for i in [item for item in np.where(labels == idx)[0] if item not in np.where(pred_labels == idx)[0]]:\n",
    "            img_labels_preds_idx.append((images[i],test_data.targets[i],pred_labels[i], idx))\n",
    "    return img_labels_preds_idx     "
   ]
  },
  {
   "cell_type": "code",
   "execution_count": 23,
   "metadata": {
    "id": "5QBWCBHgNRvi"
   },
   "outputs": [],
   "source": [
    "def plot_incorrect_examples_from_top5_classes(n_images, confusion_matrix, per_class_accuracies, normalize=True):  \n",
    "    fig = plt.figure(figsize = (16, 16))\n",
    "    rows = int(np.sqrt(n_images))\n",
    "    cols = int(np.sqrt(n_images))\n",
    "    incorrect_examples = get_incorrect_examples(confusion_matrix, per_class_accuracies)\n",
    "    for i in range(rows*cols):\n",
    "        sample_idx = random.randint(0, len(incorrect_examples))\n",
    "        ax = fig.add_subplot(rows, cols, i+1)\n",
    "        image, true_label, false_label,idx = incorrect_examples[sample_idx]\n",
    "        image = image.squeeze()\n",
    "        true_class = true_label.numpy().astype(str)\n",
    "        incorrect_class = false_label.numpy()[0].astype(str)\n",
    "        if normalize:\n",
    "            image = normalize_image(image)\n",
    "\n",
    "        ax.imshow(image.cpu().numpy(),cmap=\"gray\")\n",
    "        ax.set_title(f'true label: {true_class} \\n' \\\n",
    "                         f'pred label: {incorrect_class} ')\n",
    "        ax.axis('off')\n",
    "\n",
    "    fig.subplots_adjust(hspace = 0.4)"
   ]
  },
  {
   "cell_type": "markdown",
   "metadata": {
    "id": "SNhMAzX81m36"
   },
   "source": [
    "### PCA"
   ]
  },
  {
   "cell_type": "code",
   "execution_count": 24,
   "metadata": {
    "id": "x--G0IFE1m37"
   },
   "outputs": [],
   "source": [
    "def get_representations(model, iterator):\n",
    "    model.eval()\n",
    "    outputs = []\n",
    "    intermediates = []\n",
    "    labels = []\n",
    "    with torch.no_grad():\n",
    "        \n",
    "        for (x, y) in iterator:\n",
    "\n",
    "            x = x.to(device)\n",
    "\n",
    "            y_pred = model(x)\n",
    "\n",
    "            outputs.append(y_pred.cpu())\n",
    "            labels.append(y)\n",
    "        \n",
    "    outputs = torch.cat(outputs, dim = 0)\n",
    "    labels = torch.cat(labels, dim = 0)\n",
    "\n",
    "    return outputs, labels"
   ]
  },
  {
   "cell_type": "code",
   "execution_count": 25,
   "metadata": {
    "id": "Qm9vzd891m39"
   },
   "outputs": [],
   "source": [
    "def get_pca(data):\n",
    "    pca = decomposition.PCA()\n",
    "    pca.n_components = 2\n",
    "    pca_data = pca.fit_transform(data)\n",
    "    return pca_data"
   ]
  },
  {
   "cell_type": "code",
   "execution_count": 26,
   "metadata": {
    "id": "Z5X81sNp1m39"
   },
   "outputs": [],
   "source": [
    "def plot_representations(data, labels, classes, n_images = None):\n",
    "    if n_images is not None:\n",
    "        data = data[:n_images]\n",
    "        labels = labels[:n_images]\n",
    "        \n",
    "    fig = plt.figure(figsize = (10, 10))\n",
    "    ax = fig.add_subplot(111)\n",
    "    scatter = ax.scatter(data[:, 0], data[:, 1], c = labels, cmap = 'tab10')\n",
    "    handles, labels = scatter.legend_elements()\n",
    "    legend = ax.legend(handles = handles, labels = classes)"
   ]
  },
  {
   "cell_type": "markdown",
   "metadata": {
    "id": "7prN1Zzb1m3-"
   },
   "source": [
    "## Training-Test Helpers"
   ]
  },
  {
   "cell_type": "code",
   "execution_count": 27,
   "metadata": {
    "id": "1EXcB-qG1m3-"
   },
   "outputs": [],
   "source": [
    "def train(train_loader, model, criterion, optimizer, epoch):\n",
    "    model.train()\n",
    "    train_loss = 0\n",
    "    train_correct = 0\n",
    "\n",
    "    for batch_idx, (data, target) in enumerate(train_loader):\n",
    "\n",
    "        data = data.to(device)\n",
    "        target = target.to(device)\n",
    "        \n",
    "        # compute output and loss\n",
    "        output = model(data)\n",
    "        loss = criterion(output, target)\n",
    "\n",
    "        # backward and update model\n",
    "        optimizer.zero_grad()\n",
    "        loss.backward()\n",
    "        optimizer.step()\n",
    "\n",
    "        pred = output.data.max(1, keepdim=True)[1]\n",
    "        correct = pred.eq(target.data.view_as(pred)).cpu().sum()\n",
    "\n",
    "        train_correct += correct\n",
    "        train_loss += loss.data.item()\n",
    "\n",
    "        if (batch_idx + 1)% 100 == 0:\n",
    "            print('Train Epoch: {} [{}/{} ({:.0f}%)]\\tLoss: {:.6f}'.format(\n",
    "                epoch, (batch_idx + 1) * len(data), len(train_loader.dataset),\n",
    "                100. * (batch_idx + 1) / len(train_loader), loss.data.item()))\n",
    "    \n",
    "    # Get training epoch loss and accuracy\n",
    "    train_loss /= len(train_loader.dataset)\n",
    "    epoch_acc = float(train_correct) / len(train_loader.dataset)\n",
    "    print('\\nOn Training set Average loss: {:.4f}, Accuracy: {}/{} ({:.3f}%)'.format(\n",
    "      train_loss, train_correct, len(train_loader.dataset),\n",
    "      100.0 * epoch_acc))\n",
    "    return train_loss, epoch_acc"
   ]
  },
  {
   "cell_type": "code",
   "execution_count": 28,
   "metadata": {
    "id": "_jR9HLnx1m4A"
   },
   "outputs": [],
   "source": [
    "def validate(val_loader, model, criterion):\n",
    "    model.eval()\n",
    "    loss = 0\n",
    "    correct = 0\n",
    "    with torch.no_grad():\n",
    "      for _, (data, target) in enumerate(val_loader):\n",
    "          data = data.to(device)\n",
    "          target = target.to(device)\n",
    "          \n",
    "          output = model(data)\n",
    "          \n",
    "          loss += criterion(output, target).data.item()\n",
    "\n",
    "          pred = output.data.max(1, keepdim=True)[1]\n",
    "          correct += pred.eq(target.data.view_as(pred)).cpu().sum()\n",
    "          \n",
    "      loss /= len(val_loader.dataset)\n",
    "      epoch_acc = float(correct) / len(val_loader.dataset)\n",
    "      print('On Val set Average loss: {:.4f}, Accuracy: {}/{} ({:.3f}%)\\n'.format(\n",
    "          loss, correct, len(val_loader.dataset),\n",
    "          100.0 * epoch_acc))\n",
    "    return loss,epoch_acc"
   ]
  },
  {
   "cell_type": "code",
   "execution_count": 29,
   "metadata": {
    "id": "Bx5sME1f1m4A"
   },
   "outputs": [],
   "source": [
    "def get_predictions(model, test_loader):\n",
    "    model.eval()\n",
    "    images = []\n",
    "    labels = []\n",
    "    probs = []\n",
    "    correct = 0\n",
    "    with torch.no_grad():\n",
    "    \n",
    "        for _, (data, target) in enumerate(test_loader):\n",
    "          data = data.to(device)\n",
    "          target = target.to(device)\n",
    "\n",
    "          data = data.to(device)\n",
    "          target = target.to(device)\n",
    "          \n",
    "          output = model(data)\n",
    "          \n",
    "          pred = output.data.max(1, keepdim=True)[1]\n",
    "          correct += pred.eq(target.data.view_as(pred)).cpu().sum()\n",
    "\n",
    "          images.append(data.cpu())\n",
    "          labels.append(target.cpu())\n",
    "          probs.append(pred.cpu())\n",
    "\n",
    "    images = torch.cat(images, dim = 0)\n",
    "    labels = torch.cat(labels, dim = 0)\n",
    "    probs = torch.cat(probs, dim = 0)\n",
    "\n",
    "    acc = float(correct) / len(val_loader.dataset)\n",
    "    print('\\nOn Test set Accuracy: {}/{} ({:.3f}%)\\n'.format(\n",
    "      correct, len(test_loader.dataset),\n",
    "      100.0 * acc))\n",
    "    return images, labels, probs"
   ]
  },
  {
   "cell_type": "code",
   "execution_count": 30,
   "metadata": {
    "id": "CAQ-GlHC1m4B"
   },
   "outputs": [],
   "source": [
    "def fit_model(model, num_epochs, train_loader, val_loader, optimizer, criterion, lr_scheduler = None):\n",
    "\n",
    "  best_acc = 0.0\n",
    "  hist = { \"train_loss\": [], \"train_acc\": [], \"val_loss\": [], \"val_acc\": [], \"per_epoch_time\": [] }\n",
    "  start_time = time.time()\n",
    "  for epoch in range(1, num_epochs+1):\n",
    "    epoch_start_time = time.time()\n",
    "    if lr_scheduler != None:\n",
    "      print(\"\\nTrain Epoch {}: \".format(epoch))\n",
    "      print(\"Current learning rate: {}\".format(lr_scheduler.get_last_lr()))\n",
    "    else:\n",
    "      print(\"\\nTrain Epoch {}: \".format(epoch))\n",
    "      print(\"Learning rate: {}\".format(optimizer.param_groups[0]['lr']))\n",
    "\n",
    "    epoch_train_loss, epoch_train_acc = train(train_loader, model, criterion, optimizer, epoch)\n",
    "    epoch_val_loss, epoch_val_acc = validate(val_loader, model, criterion)\n",
    "    if epoch_val_acc > best_acc:\n",
    "        best_acc = epoch_val_acc\n",
    "        print(\"New best Validation accuracy ({:.3f}%) achieved so far! \\n\".format(100.0 * best_acc))\n",
    "\n",
    "\n",
    "    # Store acuracy and loss scores for current epoch\n",
    "    hist['train_acc'].append(epoch_train_acc)\n",
    "    hist['train_loss'].append(epoch_train_loss)\n",
    "    hist['val_acc'].append(epoch_val_acc)\n",
    "    hist['val_loss'].append(epoch_val_loss)\n",
    "\n",
    "    if lr_scheduler != None:\n",
    "      lr_scheduler.step()\n",
    "\n",
    "    epoch_end_time = time.time()\n",
    "    per_epoch_ptime = epoch_end_time - epoch_start_time\n",
    "    print(\"Epoch %d of %d with %.2f s\" % (epoch, epochs, per_epoch_ptime))\n",
    "    hist[\"per_epoch_time\"].append(per_epoch_ptime)\n",
    "    \n",
    "  training_time = time.time() - start_time\n",
    "  print('\\nModel fit in : {:.2f}s'.format(training_time))\n",
    "  \n",
    "\n",
    "  return model, hist"
   ]
  },
  {
   "cell_type": "markdown",
   "metadata": {
    "id": "DBhOFrNbxdR5"
   },
   "source": [
    "# GoogLeNet - Original implemenation from Pytorch\n",
    "\n",
    "\n"
   ]
  },
  {
   "cell_type": "code",
   "execution_count": 31,
   "metadata": {
    "colab": {
     "base_uri": "https://localhost:8080/"
    },
    "id": "MeG2mhJTbHk2",
    "outputId": "cf719ce8-f989-4e6f-e62e-ddae120c69ef"
   },
   "outputs": [
    {
     "name": "stderr",
     "output_type": "stream",
     "text": [
      "/home/kgskoul/Desktop/PersonalGitRepos/Deep_Networks_for_Image_Classification/env/lib/python3.8/site-packages/torchvision/models/googlenet.py:77: FutureWarning: The default weight initialization of GoogleNet will be changed in future releases of torchvision. If you wish to keep the old behavior (which leads to long initialization times due to scipy/scipy#11299), please set init_weights=True.\n",
      "  warnings.warn('The default weight initialization of GoogleNet will be changed in future releases of '\n"
     ]
    }
   ],
   "source": [
    "googLeNet = torchvision.models.googlenet(pretrained=False, aux_logits=False)"
   ]
  },
  {
   "cell_type": "code",
   "execution_count": 32,
   "metadata": {
    "colab": {
     "base_uri": "https://localhost:8080/"
    },
    "id": "EfRvktzS25DI",
    "outputId": "5bb0f054-a9ea-4087-cec6-5bc4a1517530"
   },
   "outputs": [
    {
     "name": "stdout",
     "output_type": "stream",
     "text": [
      "The model has 6,624,904 trainable parameters\n"
     ]
    }
   ],
   "source": [
    "print(f'The model has {count_parameters(googLeNet):,} trainable parameters')"
   ]
  },
  {
   "cell_type": "markdown",
   "metadata": {
    "id": "DXUunEYcxm-s"
   },
   "source": [
    "# MNIST"
   ]
  },
  {
   "cell_type": "markdown",
   "metadata": {
    "id": "Iyiw-4iY2e_L"
   },
   "source": [
    "Since MNIST classes are 10 and not 1000 like Image Net, the last dense layer needs to output 10 features instead of 1000"
   ]
  },
  {
   "cell_type": "code",
   "execution_count": 33,
   "metadata": {
    "id": "EAZAG4Eh2rkB"
   },
   "outputs": [],
   "source": [
    "final_layer = nn.Linear(googLeNet.fc.in_features , 10)\n",
    "googLeNet.fc = final_layer"
   ]
  },
  {
   "cell_type": "markdown",
   "metadata": {
    "id": "b3sXwipL1m4F"
   },
   "source": [
    "To be able to use our net in the MNIST dataset we need our first layer(i.e Conv2d) to receive single channel inputs."
   ]
  },
  {
   "cell_type": "code",
   "execution_count": 34,
   "metadata": {
    "id": "vuljZxmN1m4G"
   },
   "outputs": [],
   "source": [
    "new_cnn = nn.Conv2d(1, 64, kernel_size=(7, 7), stride=(2, 2), padding=(3, 3), bias=False)\n",
    "googLeNet.conv1.conv = new_cnn"
   ]
  },
  {
   "cell_type": "code",
   "execution_count": 35,
   "metadata": {
    "colab": {
     "base_uri": "https://localhost:8080/"
    },
    "id": "XQE9mvP3qI_W",
    "outputId": "c46d1966-9d0c-4fc3-c023-99fcbe8124f9"
   },
   "outputs": [
    {
     "data": {
      "text/plain": [
       "GoogLeNet(\n",
       "  (conv1): BasicConv2d(\n",
       "    (conv): Conv2d(1, 64, kernel_size=(7, 7), stride=(2, 2), padding=(3, 3), bias=False)\n",
       "    (bn): BatchNorm2d(64, eps=0.001, momentum=0.1, affine=True, track_running_stats=True)\n",
       "  )\n",
       "  (maxpool1): MaxPool2d(kernel_size=3, stride=2, padding=0, dilation=1, ceil_mode=True)\n",
       "  (conv2): BasicConv2d(\n",
       "    (conv): Conv2d(64, 64, kernel_size=(1, 1), stride=(1, 1), bias=False)\n",
       "    (bn): BatchNorm2d(64, eps=0.001, momentum=0.1, affine=True, track_running_stats=True)\n",
       "  )\n",
       "  (conv3): BasicConv2d(\n",
       "    (conv): Conv2d(64, 192, kernel_size=(3, 3), stride=(1, 1), padding=(1, 1), bias=False)\n",
       "    (bn): BatchNorm2d(192, eps=0.001, momentum=0.1, affine=True, track_running_stats=True)\n",
       "  )\n",
       "  (maxpool2): MaxPool2d(kernel_size=3, stride=2, padding=0, dilation=1, ceil_mode=True)\n",
       "  (inception3a): Inception(\n",
       "    (branch1): BasicConv2d(\n",
       "      (conv): Conv2d(192, 64, kernel_size=(1, 1), stride=(1, 1), bias=False)\n",
       "      (bn): BatchNorm2d(64, eps=0.001, momentum=0.1, affine=True, track_running_stats=True)\n",
       "    )\n",
       "    (branch2): Sequential(\n",
       "      (0): BasicConv2d(\n",
       "        (conv): Conv2d(192, 96, kernel_size=(1, 1), stride=(1, 1), bias=False)\n",
       "        (bn): BatchNorm2d(96, eps=0.001, momentum=0.1, affine=True, track_running_stats=True)\n",
       "      )\n",
       "      (1): BasicConv2d(\n",
       "        (conv): Conv2d(96, 128, kernel_size=(3, 3), stride=(1, 1), padding=(1, 1), bias=False)\n",
       "        (bn): BatchNorm2d(128, eps=0.001, momentum=0.1, affine=True, track_running_stats=True)\n",
       "      )\n",
       "    )\n",
       "    (branch3): Sequential(\n",
       "      (0): BasicConv2d(\n",
       "        (conv): Conv2d(192, 16, kernel_size=(1, 1), stride=(1, 1), bias=False)\n",
       "        (bn): BatchNorm2d(16, eps=0.001, momentum=0.1, affine=True, track_running_stats=True)\n",
       "      )\n",
       "      (1): BasicConv2d(\n",
       "        (conv): Conv2d(16, 32, kernel_size=(3, 3), stride=(1, 1), padding=(1, 1), bias=False)\n",
       "        (bn): BatchNorm2d(32, eps=0.001, momentum=0.1, affine=True, track_running_stats=True)\n",
       "      )\n",
       "    )\n",
       "    (branch4): Sequential(\n",
       "      (0): MaxPool2d(kernel_size=3, stride=1, padding=1, dilation=1, ceil_mode=True)\n",
       "      (1): BasicConv2d(\n",
       "        (conv): Conv2d(192, 32, kernel_size=(1, 1), stride=(1, 1), bias=False)\n",
       "        (bn): BatchNorm2d(32, eps=0.001, momentum=0.1, affine=True, track_running_stats=True)\n",
       "      )\n",
       "    )\n",
       "  )\n",
       "  (inception3b): Inception(\n",
       "    (branch1): BasicConv2d(\n",
       "      (conv): Conv2d(256, 128, kernel_size=(1, 1), stride=(1, 1), bias=False)\n",
       "      (bn): BatchNorm2d(128, eps=0.001, momentum=0.1, affine=True, track_running_stats=True)\n",
       "    )\n",
       "    (branch2): Sequential(\n",
       "      (0): BasicConv2d(\n",
       "        (conv): Conv2d(256, 128, kernel_size=(1, 1), stride=(1, 1), bias=False)\n",
       "        (bn): BatchNorm2d(128, eps=0.001, momentum=0.1, affine=True, track_running_stats=True)\n",
       "      )\n",
       "      (1): BasicConv2d(\n",
       "        (conv): Conv2d(128, 192, kernel_size=(3, 3), stride=(1, 1), padding=(1, 1), bias=False)\n",
       "        (bn): BatchNorm2d(192, eps=0.001, momentum=0.1, affine=True, track_running_stats=True)\n",
       "      )\n",
       "    )\n",
       "    (branch3): Sequential(\n",
       "      (0): BasicConv2d(\n",
       "        (conv): Conv2d(256, 32, kernel_size=(1, 1), stride=(1, 1), bias=False)\n",
       "        (bn): BatchNorm2d(32, eps=0.001, momentum=0.1, affine=True, track_running_stats=True)\n",
       "      )\n",
       "      (1): BasicConv2d(\n",
       "        (conv): Conv2d(32, 96, kernel_size=(3, 3), stride=(1, 1), padding=(1, 1), bias=False)\n",
       "        (bn): BatchNorm2d(96, eps=0.001, momentum=0.1, affine=True, track_running_stats=True)\n",
       "      )\n",
       "    )\n",
       "    (branch4): Sequential(\n",
       "      (0): MaxPool2d(kernel_size=3, stride=1, padding=1, dilation=1, ceil_mode=True)\n",
       "      (1): BasicConv2d(\n",
       "        (conv): Conv2d(256, 64, kernel_size=(1, 1), stride=(1, 1), bias=False)\n",
       "        (bn): BatchNorm2d(64, eps=0.001, momentum=0.1, affine=True, track_running_stats=True)\n",
       "      )\n",
       "    )\n",
       "  )\n",
       "  (maxpool3): MaxPool2d(kernel_size=3, stride=2, padding=0, dilation=1, ceil_mode=True)\n",
       "  (inception4a): Inception(\n",
       "    (branch1): BasicConv2d(\n",
       "      (conv): Conv2d(480, 192, kernel_size=(1, 1), stride=(1, 1), bias=False)\n",
       "      (bn): BatchNorm2d(192, eps=0.001, momentum=0.1, affine=True, track_running_stats=True)\n",
       "    )\n",
       "    (branch2): Sequential(\n",
       "      (0): BasicConv2d(\n",
       "        (conv): Conv2d(480, 96, kernel_size=(1, 1), stride=(1, 1), bias=False)\n",
       "        (bn): BatchNorm2d(96, eps=0.001, momentum=0.1, affine=True, track_running_stats=True)\n",
       "      )\n",
       "      (1): BasicConv2d(\n",
       "        (conv): Conv2d(96, 208, kernel_size=(3, 3), stride=(1, 1), padding=(1, 1), bias=False)\n",
       "        (bn): BatchNorm2d(208, eps=0.001, momentum=0.1, affine=True, track_running_stats=True)\n",
       "      )\n",
       "    )\n",
       "    (branch3): Sequential(\n",
       "      (0): BasicConv2d(\n",
       "        (conv): Conv2d(480, 16, kernel_size=(1, 1), stride=(1, 1), bias=False)\n",
       "        (bn): BatchNorm2d(16, eps=0.001, momentum=0.1, affine=True, track_running_stats=True)\n",
       "      )\n",
       "      (1): BasicConv2d(\n",
       "        (conv): Conv2d(16, 48, kernel_size=(3, 3), stride=(1, 1), padding=(1, 1), bias=False)\n",
       "        (bn): BatchNorm2d(48, eps=0.001, momentum=0.1, affine=True, track_running_stats=True)\n",
       "      )\n",
       "    )\n",
       "    (branch4): Sequential(\n",
       "      (0): MaxPool2d(kernel_size=3, stride=1, padding=1, dilation=1, ceil_mode=True)\n",
       "      (1): BasicConv2d(\n",
       "        (conv): Conv2d(480, 64, kernel_size=(1, 1), stride=(1, 1), bias=False)\n",
       "        (bn): BatchNorm2d(64, eps=0.001, momentum=0.1, affine=True, track_running_stats=True)\n",
       "      )\n",
       "    )\n",
       "  )\n",
       "  (inception4b): Inception(\n",
       "    (branch1): BasicConv2d(\n",
       "      (conv): Conv2d(512, 160, kernel_size=(1, 1), stride=(1, 1), bias=False)\n",
       "      (bn): BatchNorm2d(160, eps=0.001, momentum=0.1, affine=True, track_running_stats=True)\n",
       "    )\n",
       "    (branch2): Sequential(\n",
       "      (0): BasicConv2d(\n",
       "        (conv): Conv2d(512, 112, kernel_size=(1, 1), stride=(1, 1), bias=False)\n",
       "        (bn): BatchNorm2d(112, eps=0.001, momentum=0.1, affine=True, track_running_stats=True)\n",
       "      )\n",
       "      (1): BasicConv2d(\n",
       "        (conv): Conv2d(112, 224, kernel_size=(3, 3), stride=(1, 1), padding=(1, 1), bias=False)\n",
       "        (bn): BatchNorm2d(224, eps=0.001, momentum=0.1, affine=True, track_running_stats=True)\n",
       "      )\n",
       "    )\n",
       "    (branch3): Sequential(\n",
       "      (0): BasicConv2d(\n",
       "        (conv): Conv2d(512, 24, kernel_size=(1, 1), stride=(1, 1), bias=False)\n",
       "        (bn): BatchNorm2d(24, eps=0.001, momentum=0.1, affine=True, track_running_stats=True)\n",
       "      )\n",
       "      (1): BasicConv2d(\n",
       "        (conv): Conv2d(24, 64, kernel_size=(3, 3), stride=(1, 1), padding=(1, 1), bias=False)\n",
       "        (bn): BatchNorm2d(64, eps=0.001, momentum=0.1, affine=True, track_running_stats=True)\n",
       "      )\n",
       "    )\n",
       "    (branch4): Sequential(\n",
       "      (0): MaxPool2d(kernel_size=3, stride=1, padding=1, dilation=1, ceil_mode=True)\n",
       "      (1): BasicConv2d(\n",
       "        (conv): Conv2d(512, 64, kernel_size=(1, 1), stride=(1, 1), bias=False)\n",
       "        (bn): BatchNorm2d(64, eps=0.001, momentum=0.1, affine=True, track_running_stats=True)\n",
       "      )\n",
       "    )\n",
       "  )\n",
       "  (inception4c): Inception(\n",
       "    (branch1): BasicConv2d(\n",
       "      (conv): Conv2d(512, 128, kernel_size=(1, 1), stride=(1, 1), bias=False)\n",
       "      (bn): BatchNorm2d(128, eps=0.001, momentum=0.1, affine=True, track_running_stats=True)\n",
       "    )\n",
       "    (branch2): Sequential(\n",
       "      (0): BasicConv2d(\n",
       "        (conv): Conv2d(512, 128, kernel_size=(1, 1), stride=(1, 1), bias=False)\n",
       "        (bn): BatchNorm2d(128, eps=0.001, momentum=0.1, affine=True, track_running_stats=True)\n",
       "      )\n",
       "      (1): BasicConv2d(\n",
       "        (conv): Conv2d(128, 256, kernel_size=(3, 3), stride=(1, 1), padding=(1, 1), bias=False)\n",
       "        (bn): BatchNorm2d(256, eps=0.001, momentum=0.1, affine=True, track_running_stats=True)\n",
       "      )\n",
       "    )\n",
       "    (branch3): Sequential(\n",
       "      (0): BasicConv2d(\n",
       "        (conv): Conv2d(512, 24, kernel_size=(1, 1), stride=(1, 1), bias=False)\n",
       "        (bn): BatchNorm2d(24, eps=0.001, momentum=0.1, affine=True, track_running_stats=True)\n",
       "      )\n",
       "      (1): BasicConv2d(\n",
       "        (conv): Conv2d(24, 64, kernel_size=(3, 3), stride=(1, 1), padding=(1, 1), bias=False)\n",
       "        (bn): BatchNorm2d(64, eps=0.001, momentum=0.1, affine=True, track_running_stats=True)\n",
       "      )\n",
       "    )\n",
       "    (branch4): Sequential(\n",
       "      (0): MaxPool2d(kernel_size=3, stride=1, padding=1, dilation=1, ceil_mode=True)\n",
       "      (1): BasicConv2d(\n",
       "        (conv): Conv2d(512, 64, kernel_size=(1, 1), stride=(1, 1), bias=False)\n",
       "        (bn): BatchNorm2d(64, eps=0.001, momentum=0.1, affine=True, track_running_stats=True)\n",
       "      )\n",
       "    )\n",
       "  )\n",
       "  (inception4d): Inception(\n",
       "    (branch1): BasicConv2d(\n",
       "      (conv): Conv2d(512, 112, kernel_size=(1, 1), stride=(1, 1), bias=False)\n",
       "      (bn): BatchNorm2d(112, eps=0.001, momentum=0.1, affine=True, track_running_stats=True)\n",
       "    )\n",
       "    (branch2): Sequential(\n",
       "      (0): BasicConv2d(\n",
       "        (conv): Conv2d(512, 144, kernel_size=(1, 1), stride=(1, 1), bias=False)\n",
       "        (bn): BatchNorm2d(144, eps=0.001, momentum=0.1, affine=True, track_running_stats=True)\n",
       "      )\n",
       "      (1): BasicConv2d(\n",
       "        (conv): Conv2d(144, 288, kernel_size=(3, 3), stride=(1, 1), padding=(1, 1), bias=False)\n",
       "        (bn): BatchNorm2d(288, eps=0.001, momentum=0.1, affine=True, track_running_stats=True)\n",
       "      )\n",
       "    )\n",
       "    (branch3): Sequential(\n",
       "      (0): BasicConv2d(\n",
       "        (conv): Conv2d(512, 32, kernel_size=(1, 1), stride=(1, 1), bias=False)\n",
       "        (bn): BatchNorm2d(32, eps=0.001, momentum=0.1, affine=True, track_running_stats=True)\n",
       "      )\n",
       "      (1): BasicConv2d(\n",
       "        (conv): Conv2d(32, 64, kernel_size=(3, 3), stride=(1, 1), padding=(1, 1), bias=False)\n",
       "        (bn): BatchNorm2d(64, eps=0.001, momentum=0.1, affine=True, track_running_stats=True)\n",
       "      )\n",
       "    )\n",
       "    (branch4): Sequential(\n",
       "      (0): MaxPool2d(kernel_size=3, stride=1, padding=1, dilation=1, ceil_mode=True)\n",
       "      (1): BasicConv2d(\n",
       "        (conv): Conv2d(512, 64, kernel_size=(1, 1), stride=(1, 1), bias=False)\n",
       "        (bn): BatchNorm2d(64, eps=0.001, momentum=0.1, affine=True, track_running_stats=True)\n",
       "      )\n",
       "    )\n",
       "  )\n",
       "  (inception4e): Inception(\n",
       "    (branch1): BasicConv2d(\n",
       "      (conv): Conv2d(528, 256, kernel_size=(1, 1), stride=(1, 1), bias=False)\n",
       "      (bn): BatchNorm2d(256, eps=0.001, momentum=0.1, affine=True, track_running_stats=True)\n",
       "    )\n",
       "    (branch2): Sequential(\n",
       "      (0): BasicConv2d(\n",
       "        (conv): Conv2d(528, 160, kernel_size=(1, 1), stride=(1, 1), bias=False)\n",
       "        (bn): BatchNorm2d(160, eps=0.001, momentum=0.1, affine=True, track_running_stats=True)\n",
       "      )\n",
       "      (1): BasicConv2d(\n",
       "        (conv): Conv2d(160, 320, kernel_size=(3, 3), stride=(1, 1), padding=(1, 1), bias=False)\n",
       "        (bn): BatchNorm2d(320, eps=0.001, momentum=0.1, affine=True, track_running_stats=True)\n",
       "      )\n",
       "    )\n",
       "    (branch3): Sequential(\n",
       "      (0): BasicConv2d(\n",
       "        (conv): Conv2d(528, 32, kernel_size=(1, 1), stride=(1, 1), bias=False)\n",
       "        (bn): BatchNorm2d(32, eps=0.001, momentum=0.1, affine=True, track_running_stats=True)\n",
       "      )\n",
       "      (1): BasicConv2d(\n",
       "        (conv): Conv2d(32, 128, kernel_size=(3, 3), stride=(1, 1), padding=(1, 1), bias=False)\n",
       "        (bn): BatchNorm2d(128, eps=0.001, momentum=0.1, affine=True, track_running_stats=True)\n",
       "      )\n",
       "    )\n",
       "    (branch4): Sequential(\n",
       "      (0): MaxPool2d(kernel_size=3, stride=1, padding=1, dilation=1, ceil_mode=True)\n",
       "      (1): BasicConv2d(\n",
       "        (conv): Conv2d(528, 128, kernel_size=(1, 1), stride=(1, 1), bias=False)\n",
       "        (bn): BatchNorm2d(128, eps=0.001, momentum=0.1, affine=True, track_running_stats=True)\n",
       "      )\n",
       "    )\n",
       "  )\n",
       "  (maxpool4): MaxPool2d(kernel_size=2, stride=2, padding=0, dilation=1, ceil_mode=True)\n",
       "  (inception5a): Inception(\n",
       "    (branch1): BasicConv2d(\n",
       "      (conv): Conv2d(832, 256, kernel_size=(1, 1), stride=(1, 1), bias=False)\n",
       "      (bn): BatchNorm2d(256, eps=0.001, momentum=0.1, affine=True, track_running_stats=True)\n",
       "    )\n",
       "    (branch2): Sequential(\n",
       "      (0): BasicConv2d(\n",
       "        (conv): Conv2d(832, 160, kernel_size=(1, 1), stride=(1, 1), bias=False)\n",
       "        (bn): BatchNorm2d(160, eps=0.001, momentum=0.1, affine=True, track_running_stats=True)\n",
       "      )\n",
       "      (1): BasicConv2d(\n",
       "        (conv): Conv2d(160, 320, kernel_size=(3, 3), stride=(1, 1), padding=(1, 1), bias=False)\n",
       "        (bn): BatchNorm2d(320, eps=0.001, momentum=0.1, affine=True, track_running_stats=True)\n",
       "      )\n",
       "    )\n",
       "    (branch3): Sequential(\n",
       "      (0): BasicConv2d(\n",
       "        (conv): Conv2d(832, 32, kernel_size=(1, 1), stride=(1, 1), bias=False)\n",
       "        (bn): BatchNorm2d(32, eps=0.001, momentum=0.1, affine=True, track_running_stats=True)\n",
       "      )\n",
       "      (1): BasicConv2d(\n",
       "        (conv): Conv2d(32, 128, kernel_size=(3, 3), stride=(1, 1), padding=(1, 1), bias=False)\n",
       "        (bn): BatchNorm2d(128, eps=0.001, momentum=0.1, affine=True, track_running_stats=True)\n",
       "      )\n",
       "    )\n",
       "    (branch4): Sequential(\n",
       "      (0): MaxPool2d(kernel_size=3, stride=1, padding=1, dilation=1, ceil_mode=True)\n",
       "      (1): BasicConv2d(\n",
       "        (conv): Conv2d(832, 128, kernel_size=(1, 1), stride=(1, 1), bias=False)\n",
       "        (bn): BatchNorm2d(128, eps=0.001, momentum=0.1, affine=True, track_running_stats=True)\n",
       "      )\n",
       "    )\n",
       "  )\n",
       "  (inception5b): Inception(\n",
       "    (branch1): BasicConv2d(\n",
       "      (conv): Conv2d(832, 384, kernel_size=(1, 1), stride=(1, 1), bias=False)\n",
       "      (bn): BatchNorm2d(384, eps=0.001, momentum=0.1, affine=True, track_running_stats=True)\n",
       "    )\n",
       "    (branch2): Sequential(\n",
       "      (0): BasicConv2d(\n",
       "        (conv): Conv2d(832, 192, kernel_size=(1, 1), stride=(1, 1), bias=False)\n",
       "        (bn): BatchNorm2d(192, eps=0.001, momentum=0.1, affine=True, track_running_stats=True)\n",
       "      )\n",
       "      (1): BasicConv2d(\n",
       "        (conv): Conv2d(192, 384, kernel_size=(3, 3), stride=(1, 1), padding=(1, 1), bias=False)\n",
       "        (bn): BatchNorm2d(384, eps=0.001, momentum=0.1, affine=True, track_running_stats=True)\n",
       "      )\n",
       "    )\n",
       "    (branch3): Sequential(\n",
       "      (0): BasicConv2d(\n",
       "        (conv): Conv2d(832, 48, kernel_size=(1, 1), stride=(1, 1), bias=False)\n",
       "        (bn): BatchNorm2d(48, eps=0.001, momentum=0.1, affine=True, track_running_stats=True)\n",
       "      )\n",
       "      (1): BasicConv2d(\n",
       "        (conv): Conv2d(48, 128, kernel_size=(3, 3), stride=(1, 1), padding=(1, 1), bias=False)\n",
       "        (bn): BatchNorm2d(128, eps=0.001, momentum=0.1, affine=True, track_running_stats=True)\n",
       "      )\n",
       "    )\n",
       "    (branch4): Sequential(\n",
       "      (0): MaxPool2d(kernel_size=3, stride=1, padding=1, dilation=1, ceil_mode=True)\n",
       "      (1): BasicConv2d(\n",
       "        (conv): Conv2d(832, 128, kernel_size=(1, 1), stride=(1, 1), bias=False)\n",
       "        (bn): BatchNorm2d(128, eps=0.001, momentum=0.1, affine=True, track_running_stats=True)\n",
       "      )\n",
       "    )\n",
       "  )\n",
       "  (avgpool): AdaptiveAvgPool2d(output_size=(1, 1))\n",
       "  (dropout): Dropout(p=0.2, inplace=False)\n",
       "  (fc): Linear(in_features=1024, out_features=10, bias=True)\n",
       ")"
      ]
     },
     "execution_count": 35,
     "metadata": {},
     "output_type": "execute_result"
    }
   ],
   "source": [
    "googLeNet.to(device)"
   ]
  },
  {
   "cell_type": "code",
   "execution_count": 36,
   "metadata": {
    "id": "PoQSSIMW1m4H"
   },
   "outputs": [],
   "source": [
    "train_transforms = transforms.Compose(\n",
    "    [\n",
    "      transforms.Resize(64), # resize images to 64 x 64\n",
    "      transforms.ToTensor()\n",
    "    ])\n",
    "\n",
    "val_test_transforms = transforms.Compose(\n",
    "    [\n",
    "     transforms.Resize(64),\n",
    "     transforms.ToTensor()\n",
    "    ])"
   ]
  },
  {
   "cell_type": "code",
   "execution_count": 37,
   "metadata": {
    "colab": {
     "base_uri": "https://localhost:8080/"
    },
    "id": "ZWzvvML8Um-R",
    "outputId": "5c882a8e-b1d0-4631-cc53-73f1214eb57c"
   },
   "outputs": [
    {
     "name": "stdout",
     "output_type": "stream",
     "text": [
      "Downloading http://yann.lecun.com/exdb/mnist/train-images-idx3-ubyte.gz\n",
      "Downloading http://yann.lecun.com/exdb/mnist/train-images-idx3-ubyte.gz to ../CV_Data/MNIST/raw/train-images-idx3-ubyte.gz\n"
     ]
    },
    {
     "name": "stderr",
     "output_type": "stream",
     "text": [
      "100.0%\n"
     ]
    },
    {
     "name": "stdout",
     "output_type": "stream",
     "text": [
      "Extracting ../CV_Data/MNIST/raw/train-images-idx3-ubyte.gz to ../CV_Data/MNIST/raw\n",
      "\n",
      "Downloading http://yann.lecun.com/exdb/mnist/train-labels-idx1-ubyte.gz\n",
      "Failed to download (trying next):\n",
      "HTTP Error 503: Service Unavailable\n",
      "\n",
      "Downloading https://ossci-datasets.s3.amazonaws.com/mnist/train-labels-idx1-ubyte.gz\n",
      "Downloading https://ossci-datasets.s3.amazonaws.com/mnist/train-labels-idx1-ubyte.gz to ../CV_Data/MNIST/raw/train-labels-idx1-ubyte.gz\n"
     ]
    },
    {
     "name": "stderr",
     "output_type": "stream",
     "text": [
      "102.8%\n"
     ]
    },
    {
     "name": "stdout",
     "output_type": "stream",
     "text": [
      "Extracting ../CV_Data/MNIST/raw/train-labels-idx1-ubyte.gz to ../CV_Data/MNIST/raw\n",
      "\n",
      "Downloading http://yann.lecun.com/exdb/mnist/t10k-images-idx3-ubyte.gz\n",
      "Downloading http://yann.lecun.com/exdb/mnist/t10k-images-idx3-ubyte.gz to ../CV_Data/MNIST/raw/t10k-images-idx3-ubyte.gz\n",
      "Failed to download (trying next):\n",
      "HTTP Error 503: Service Unavailable\n",
      "\n",
      "Downloading https://ossci-datasets.s3.amazonaws.com/mnist/t10k-images-idx3-ubyte.gz\n",
      "Downloading https://ossci-datasets.s3.amazonaws.com/mnist/t10k-images-idx3-ubyte.gz to ../CV_Data/MNIST/raw/t10k-images-idx3-ubyte.gz\n"
     ]
    },
    {
     "name": "stderr",
     "output_type": "stream",
     "text": [
      "100.0%\n"
     ]
    },
    {
     "name": "stdout",
     "output_type": "stream",
     "text": [
      "Extracting ../CV_Data/MNIST/raw/t10k-images-idx3-ubyte.gz to ../CV_Data/MNIST/raw\n",
      "\n",
      "Downloading http://yann.lecun.com/exdb/mnist/t10k-labels-idx1-ubyte.gz\n",
      "Failed to download (trying next):\n",
      "HTTP Error 503: Service Unavailable\n",
      "\n",
      "Downloading https://ossci-datasets.s3.amazonaws.com/mnist/t10k-labels-idx1-ubyte.gz\n",
      "Downloading https://ossci-datasets.s3.amazonaws.com/mnist/t10k-labels-idx1-ubyte.gz to ../CV_Data/MNIST/raw/t10k-labels-idx1-ubyte.gz\n"
     ]
    },
    {
     "name": "stderr",
     "output_type": "stream",
     "text": [
      "112.7%"
     ]
    },
    {
     "name": "stdout",
     "output_type": "stream",
     "text": [
      "Extracting ../CV_Data/MNIST/raw/t10k-labels-idx1-ubyte.gz to ../CV_Data/MNIST/raw\n",
      "\n",
      "Processing...\n",
      "Done!\n",
      "Training dataset: Dataset MNIST\n",
      "    Number of datapoints: 60000\n",
      "    Root location: ../CV_Data\n",
      "    Split: Train\n",
      "    StandardTransform\n",
      "Transform: Compose(\n",
      "               Resize(size=64, interpolation=bilinear)\n",
      "               ToTensor()\n",
      "           )\n",
      "Test dataset: Dataset MNIST\n",
      "    Number of datapoints: 10000\n",
      "    Root location: ../CV_Data\n",
      "    Split: Test\n",
      "    StandardTransform\n",
      "Transform: Compose(\n",
      "               Resize(size=64, interpolation=bilinear)\n",
      "               ToTensor()\n",
      "           )\n"
     ]
    },
    {
     "name": "stderr",
     "output_type": "stream",
     "text": [
      "\n",
      "/home/kgskoul/Desktop/PersonalGitRepos/Deep_Networks_for_Image_Classification/env/lib/python3.8/site-packages/torchvision/datasets/mnist.py:502: UserWarning: The given NumPy array is not writeable, and PyTorch does not support non-writeable tensors. This means you can write to the underlying (supposedly non-writeable) NumPy array using the tensor. You may want to copy the array to protect its data or make it writeable before converting it to a tensor. This type of warning will be suppressed for the rest of this program. (Triggered internally at  /opt/conda/conda-bld/pytorch_1616554796012/work/torch/csrc/utils/tensor_numpy.cpp:143.)\n",
      "  return torch.from_numpy(parsed.astype(m[2], copy=False)).view(*s)\n"
     ]
    }
   ],
   "source": [
    "train_data, test_data = load_mnist(train_transforms, val_test_transforms)"
   ]
  },
  {
   "cell_type": "code",
   "execution_count": 38,
   "metadata": {
    "colab": {
     "base_uri": "https://localhost:8080/"
    },
    "id": "d0LB7ax81m4J",
    "outputId": "346798fa-259b-4567-f2d1-c342b84a1075"
   },
   "outputs": [
    {
     "name": "stdout",
     "output_type": "stream",
     "text": [
      "torch.Size([60000, 28, 28])\n",
      "Mean: tensor(0.1307)\n",
      "Std:  tensor(0.3081)\n"
     ]
    },
    {
     "data": {
      "text/plain": [
       "Normalize(mean=(0.13066048920154572,), std=(0.30810779333114624,))"
      ]
     },
     "execution_count": 38,
     "metadata": {},
     "output_type": "execute_result"
    }
   ],
   "source": [
    "transforms_normalize = normalize_data(train_data)\n",
    "transforms_normalize"
   ]
  },
  {
   "cell_type": "markdown",
   "metadata": {
    "id": "SIYUWle_1m4J"
   },
   "source": [
    "Based on the values per channel (mean,std) we want to normalize the data accordingly, therefore we reload the data with the appropriate transformation"
   ]
  },
  {
   "cell_type": "code",
   "execution_count": 39,
   "metadata": {
    "id": "GvzG3b_w1m4K"
   },
   "outputs": [],
   "source": [
    "train_transforms.transforms.insert(2, transforms_normalize)"
   ]
  },
  {
   "cell_type": "markdown",
   "metadata": {
    "id": "Dqu9LTcw1m4K"
   },
   "source": [
    "The same is applied to the validation and test transformations"
   ]
  },
  {
   "cell_type": "code",
   "execution_count": 40,
   "metadata": {
    "id": "jQbSAkj81m4L"
   },
   "outputs": [],
   "source": [
    "val_test_transforms.transforms.insert(2, transforms_normalize)"
   ]
  },
  {
   "cell_type": "markdown",
   "metadata": {
    "id": "Nd1VE3X61m4L"
   },
   "source": [
    "Reload the data with the normalization transformation"
   ]
  },
  {
   "cell_type": "code",
   "execution_count": 41,
   "metadata": {
    "colab": {
     "base_uri": "https://localhost:8080/"
    },
    "id": "JcW19xTj1m4L",
    "outputId": "b14a7541-6312-4037-abae-7d556d8a37f3"
   },
   "outputs": [
    {
     "name": "stdout",
     "output_type": "stream",
     "text": [
      "Training dataset: Dataset MNIST\n",
      "    Number of datapoints: 60000\n",
      "    Root location: ../CV_Data\n",
      "    Split: Train\n",
      "    StandardTransform\n",
      "Transform: Compose(\n",
      "               Resize(size=64, interpolation=bilinear)\n",
      "               ToTensor()\n",
      "               Normalize(mean=(0.13066048920154572,), std=(0.30810779333114624,))\n",
      "           )\n",
      "Test dataset: Dataset MNIST\n",
      "    Number of datapoints: 10000\n",
      "    Root location: ../CV_Data\n",
      "    Split: Test\n",
      "    StandardTransform\n",
      "Transform: Compose(\n",
      "               Resize(size=64, interpolation=bilinear)\n",
      "               ToTensor()\n",
      "               Normalize(mean=(0.13066048920154572,), std=(0.30810779333114624,))\n",
      "           )\n"
     ]
    }
   ],
   "source": [
    "train_data, test_data = load_mnist(train_transforms, val_test_transforms)"
   ]
  },
  {
   "cell_type": "code",
   "execution_count": 42,
   "metadata": {
    "colab": {
     "base_uri": "https://localhost:8080/"
    },
    "id": "KfyXCtXx1m4M",
    "outputId": "06e65dc5-5673-4051-f844-191d158b9328"
   },
   "outputs": [
    {
     "data": {
      "text/plain": [
       "['0 - zero',\n",
       " '1 - one',\n",
       " '2 - two',\n",
       " '3 - three',\n",
       " '4 - four',\n",
       " '5 - five',\n",
       " '6 - six',\n",
       " '7 - seven',\n",
       " '8 - eight',\n",
       " '9 - nine']"
      ]
     },
     "execution_count": 42,
     "metadata": {},
     "output_type": "execute_result"
    }
   ],
   "source": [
    "classes = get_classes(test_data)\n",
    "classes"
   ]
  },
  {
   "cell_type": "markdown",
   "metadata": {
    "id": "FnuRcthBTuKw"
   },
   "source": [
    "## Split into training "
   ]
  },
  {
   "cell_type": "code",
   "execution_count": 43,
   "metadata": {
    "id": "A-_Q27pMTdsN"
   },
   "outputs": [],
   "source": [
    "train_set, val_set = get_train_val_sets(train_data)"
   ]
  },
  {
   "cell_type": "markdown",
   "metadata": {
    "id": "oxziiZrbWsdU"
   },
   "source": [
    "The validation set needs to be transformed with the transfomer used for the test dataset"
   ]
  },
  {
   "cell_type": "code",
   "execution_count": 44,
   "metadata": {
    "id": "n-7bwEu_UwMG"
   },
   "outputs": [],
   "source": [
    "import copy\n",
    "val_set = copy.deepcopy(val_set)\n",
    "val_set.dataset.transform = val_test_transforms"
   ]
  },
  {
   "cell_type": "code",
   "execution_count": 45,
   "metadata": {
    "colab": {
     "base_uri": "https://localhost:8080/"
    },
    "id": "kxhnbzRO1m4O",
    "outputId": "97ececdc-8934-46ba-d195-3d3e16e1ded9"
   },
   "outputs": [
    {
     "data": {
      "text/plain": [
       "[Resize(size=64, interpolation=bilinear),\n",
       " ToTensor(),\n",
       " Normalize(mean=(0.13066048920154572,), std=(0.30810779333114624,))]"
      ]
     },
     "execution_count": 45,
     "metadata": {},
     "output_type": "execute_result"
    }
   ],
   "source": [
    "val_test_transforms.transforms"
   ]
  },
  {
   "cell_type": "markdown",
   "metadata": {
    "id": "hiDfMAWwW2BP"
   },
   "source": [
    "Finally, the loaders can be created"
   ]
  },
  {
   "cell_type": "code",
   "execution_count": 46,
   "metadata": {
    "id": "rMS6WjKzSuC_"
   },
   "outputs": [],
   "source": [
    "train_loader = DataLoader(dataset=train_set, batch_size=batch_size, shuffle=True)\n",
    "val_loader = DataLoader(dataset=val_set, batch_size=batch_size, shuffle=False)\n",
    "test_loader = DataLoader(dataset=test_data, batch_size=batch_size, shuffle=False)"
   ]
  },
  {
   "cell_type": "markdown",
   "metadata": {
    "id": "K7TmGvnvQwet"
   },
   "source": [
    "## Initial Visualization"
   ]
  },
  {
   "cell_type": "code",
   "execution_count": 48,
   "metadata": {
    "colab": {
     "base_uri": "https://localhost:8080/"
    },
    "id": "X5b5h-FjVaQ7",
    "outputId": "1e870f36-6eca-46c8-9fab-cf87fa53d3c6"
   },
   "outputs": [
    {
     "name": "stdout",
     "output_type": "stream",
     "text": [
      "Number of training examples: 50000\n",
      "Number of validation examples: 10000\n",
      "Number of testing examples: 10000\n",
      "Feature batch shape: torch.Size([128, 1, 64, 64])\n",
      "Labels batch shape: torch.Size([128])\n"
     ]
    },
    {
     "data": {
      "image/png": "[encoded data removed]",
      "text/plain": [
       "<Figure size 576x576 with 9 Axes>"
      ]
     },
     "metadata": {
      "needs_background": "light"
     },
     "output_type": "display_data"
    }
   ],
   "source": [
    "print(f'Number of training examples: {len(train_set)}')\n",
    "print(f'Number of validation examples: {len(val_set)}')\n",
    "print(f'Number of testing examples: {len(test_data)}')\n",
    "visualize_images_from_loader(train_loader)"
   ]
  },
  {
   "cell_type": "markdown",
   "metadata": {
    "id": "wJWpIZtRSrOA"
   },
   "source": [
    "## Train the GoogLeNet original implemenation"
   ]
  },
  {
   "cell_type": "code",
   "execution_count": null,
   "metadata": {
    "id": "93y2IY-HyPwT"
   },
   "outputs": [],
   "source": [
    "epochs = 50 \n",
    "# step_size = 5    \n",
    "base_lr = 0.001    \n",
    "\n",
    "optimizer = torch.optim.SGD(googLeNet.parameters(), lr=base_lr, momentum=0.9)\n",
    "loss_fn = nn.CrossEntropyLoss()"
   ]
  },
  {
   "cell_type": "code",
   "execution_count": null,
   "metadata": {
    "colab": {
     "base_uri": "https://localhost:8080/"
    },
    "id": "Wf_OJAGfqvdI",
    "outputId": "c0faeea5-96d8-45e5-a07d-79673a60bef2"
   },
   "outputs": [
    {
     "name": "stdout",
     "output_type": "stream",
     "text": [
      "\n",
      "Train Epoch 1: \n",
      "Learning rate: 0.001\n",
      "Train Epoch: 1 [12800/50000 (26%)]\tLoss: 0.125046\n",
      "Train Epoch: 1 [25600/50000 (51%)]\tLoss: 0.034386\n",
      "Train Epoch: 1 [38400/50000 (77%)]\tLoss: 0.101319\n",
      "\n",
      "On Training set Average loss: 0.0016, Accuracy: 46945/50000 (93.890%)\n",
      "On Val set Average loss: 0.0004, Accuracy: 9864/10000 (98.640%)\n",
      "\n",
      "New best Validation accuracy (98.640%) achieved so far! \n",
      "\n",
      "Epoch 1 of 50 with 30.51 s\n",
      "\n",
      "Train Epoch 2: \n",
      "Learning rate: 0.001\n",
      "Train Epoch: 2 [12800/50000 (26%)]\tLoss: 0.024851\n",
      "Train Epoch: 2 [25600/50000 (51%)]\tLoss: 0.062055\n",
      "Train Epoch: 2 [38400/50000 (77%)]\tLoss: 0.021375\n",
      "\n",
      "On Training set Average loss: 0.0003, Accuracy: 49460/50000 (98.920%)\n",
      "On Val set Average loss: 0.0004, Accuracy: 9873/10000 (98.730%)\n",
      "\n",
      "New best Validation accuracy (98.730%) achieved so far! \n",
      "\n",
      "Epoch 2 of 50 with 30.69 s\n",
      "\n",
      "Train Epoch 3: \n",
      "Learning rate: 0.001\n",
      "Train Epoch: 3 [12800/50000 (26%)]\tLoss: 0.003908\n",
      "Train Epoch: 3 [25600/50000 (51%)]\tLoss: 0.016768\n",
      "Train Epoch: 3 [38400/50000 (77%)]\tLoss: 0.028446\n",
      "\n",
      "On Training set Average loss: 0.0002, Accuracy: 49602/50000 (99.204%)\n",
      "On Val set Average loss: 0.0004, Accuracy: 9864/10000 (98.640%)\n",
      "\n",
      "Epoch 3 of 50 with 30.99 s\n",
      "\n",
      "Train Epoch 4: \n",
      "Learning rate: 0.001\n",
      "Train Epoch: 4 [12800/50000 (26%)]\tLoss: 0.022539\n",
      "Train Epoch: 4 [25600/50000 (51%)]\tLoss: 0.007963\n",
      "Train Epoch: 4 [38400/50000 (77%)]\tLoss: 0.005650\n",
      "\n",
      "On Training set Average loss: 0.0001, Accuracy: 49743/50000 (99.486%)\n",
      "On Val set Average loss: 0.0003, Accuracy: 9915/10000 (99.150%)\n",
      "\n",
      "New best Validation accuracy (99.150%) achieved so far! \n",
      "\n",
      "Epoch 4 of 50 with 31.14 s\n",
      "\n",
      "Train Epoch 5: \n",
      "Learning rate: 0.001\n",
      "Train Epoch: 5 [12800/50000 (26%)]\tLoss: 0.014630\n",
      "Train Epoch: 5 [25600/50000 (51%)]\tLoss: 0.005263\n",
      "Train Epoch: 5 [38400/50000 (77%)]\tLoss: 0.007020\n",
      "\n",
      "On Training set Average loss: 0.0001, Accuracy: 49798/50000 (99.596%)\n",
      "On Val set Average loss: 0.0002, Accuracy: 9931/10000 (99.310%)\n",
      "\n",
      "New best Validation accuracy (99.310%) achieved so far! \n",
      "\n",
      "Epoch 5 of 50 with 30.73 s\n",
      "\n",
      "Train Epoch 6: \n",
      "Learning rate: 0.001\n",
      "Train Epoch: 6 [12800/50000 (26%)]\tLoss: 0.001475\n",
      "Train Epoch: 6 [25600/50000 (51%)]\tLoss: 0.032602\n",
      "Train Epoch: 6 [38400/50000 (77%)]\tLoss: 0.002680\n",
      "\n",
      "On Training set Average loss: 0.0001, Accuracy: 49841/50000 (99.682%)\n",
      "On Val set Average loss: 0.0003, Accuracy: 9911/10000 (99.110%)\n",
      "\n",
      "Epoch 6 of 50 with 30.68 s\n",
      "\n",
      "Train Epoch 7: \n",
      "Learning rate: 0.001\n",
      "Train Epoch: 7 [12800/50000 (26%)]\tLoss: 0.003198\n",
      "Train Epoch: 7 [25600/50000 (51%)]\tLoss: 0.000848\n",
      "Train Epoch: 7 [38400/50000 (77%)]\tLoss: 0.003322\n",
      "\n",
      "On Training set Average loss: 0.0001, Accuracy: 49867/50000 (99.734%)\n",
      "On Val set Average loss: 0.0003, Accuracy: 9921/10000 (99.210%)\n",
      "\n",
      "Epoch 7 of 50 with 30.77 s\n",
      "\n",
      "Train Epoch 8: \n",
      "Learning rate: 0.001\n",
      "Train Epoch: 8 [12800/50000 (26%)]\tLoss: 0.007014\n",
      "Train Epoch: 8 [25600/50000 (51%)]\tLoss: 0.002338\n",
      "Train Epoch: 8 [38400/50000 (77%)]\tLoss: 0.001832\n",
      "\n",
      "On Training set Average loss: 0.0001, Accuracy: 49905/50000 (99.810%)\n",
      "On Val set Average loss: 0.0002, Accuracy: 9945/10000 (99.450%)\n",
      "\n",
      "New best Validation accuracy (99.450%) achieved so far! \n",
      "\n",
      "Epoch 8 of 50 with 30.78 s\n",
      "\n",
      "Train Epoch 9: \n",
      "Learning rate: 0.001\n",
      "Train Epoch: 9 [12800/50000 (26%)]\tLoss: 0.000921\n",
      "Train Epoch: 9 [25600/50000 (51%)]\tLoss: 0.004738\n",
      "Train Epoch: 9 [38400/50000 (77%)]\tLoss: 0.000886\n",
      "\n",
      "On Training set Average loss: 0.0000, Accuracy: 49919/50000 (99.838%)\n",
      "On Val set Average loss: 0.0002, Accuracy: 9928/10000 (99.280%)\n",
      "\n",
      "Epoch 9 of 50 with 30.70 s\n",
      "\n",
      "Train Epoch 10: \n",
      "Learning rate: 0.001\n",
      "Train Epoch: 10 [12800/50000 (26%)]\tLoss: 0.052008\n",
      "Train Epoch: 10 [25600/50000 (51%)]\tLoss: 0.000933\n",
      "Train Epoch: 10 [38400/50000 (77%)]\tLoss: 0.007297\n",
      "\n",
      "On Training set Average loss: 0.0000, Accuracy: 49932/50000 (99.864%)\n",
      "On Val set Average loss: 0.0002, Accuracy: 9948/10000 (99.480%)\n",
      "\n",
      "New best Validation accuracy (99.480%) achieved so far! \n",
      "\n",
      "Epoch 10 of 50 with 30.78 s\n",
      "\n",
      "Train Epoch 11: \n",
      "Learning rate: 0.001\n",
      "Train Epoch: 11 [12800/50000 (26%)]\tLoss: 0.002761\n",
      "Train Epoch: 11 [25600/50000 (51%)]\tLoss: 0.007282\n",
      "Train Epoch: 11 [38400/50000 (77%)]\tLoss: 0.000726\n",
      "\n",
      "On Training set Average loss: 0.0000, Accuracy: 49934/50000 (99.868%)\n",
      "On Val set Average loss: 0.0002, Accuracy: 9950/10000 (99.500%)\n",
      "\n",
      "New best Validation accuracy (99.500%) achieved so far! \n",
      "\n",
      "Epoch 11 of 50 with 30.70 s\n",
      "\n",
      "Train Epoch 12: \n",
      "Learning rate: 0.001\n",
      "Train Epoch: 12 [12800/50000 (26%)]\tLoss: 0.003520\n",
      "Train Epoch: 12 [25600/50000 (51%)]\tLoss: 0.026521\n",
      "Train Epoch: 12 [38400/50000 (77%)]\tLoss: 0.000436\n",
      "\n",
      "On Training set Average loss: 0.0000, Accuracy: 49960/50000 (99.920%)\n",
      "On Val set Average loss: 0.0002, Accuracy: 9956/10000 (99.560%)\n",
      "\n",
      "New best Validation accuracy (99.560%) achieved so far! \n",
      "\n",
      "Epoch 12 of 50 with 30.77 s\n",
      "\n",
      "Train Epoch 13: \n",
      "Learning rate: 0.001\n",
      "Train Epoch: 13 [12800/50000 (26%)]\tLoss: 0.001110\n",
      "Train Epoch: 13 [25600/50000 (51%)]\tLoss: 0.000565\n",
      "Train Epoch: 13 [38400/50000 (77%)]\tLoss: 0.001186\n",
      "\n",
      "On Training set Average loss: 0.0000, Accuracy: 49937/50000 (99.874%)\n",
      "On Val set Average loss: 0.0002, Accuracy: 9951/10000 (99.510%)\n",
      "\n",
      "Epoch 13 of 50 with 30.65 s\n",
      "\n",
      "Train Epoch 14: \n",
      "Learning rate: 0.001\n",
      "Train Epoch: 14 [12800/50000 (26%)]\tLoss: 0.001626\n",
      "Train Epoch: 14 [25600/50000 (51%)]\tLoss: 0.000692\n",
      "Train Epoch: 14 [38400/50000 (77%)]\tLoss: 0.009564\n",
      "\n",
      "On Training set Average loss: 0.0000, Accuracy: 49974/50000 (99.948%)\n",
      "On Val set Average loss: 0.0002, Accuracy: 9955/10000 (99.550%)\n",
      "\n",
      "Epoch 14 of 50 with 31.15 s\n",
      "\n",
      "Train Epoch 15: \n",
      "Learning rate: 0.001\n",
      "Train Epoch: 15 [12800/50000 (26%)]\tLoss: 0.000377\n",
      "Train Epoch: 15 [25600/50000 (51%)]\tLoss: 0.000419\n",
      "Train Epoch: 15 [38400/50000 (77%)]\tLoss: 0.001457\n",
      "\n",
      "On Training set Average loss: 0.0000, Accuracy: 49985/50000 (99.970%)\n",
      "On Val set Average loss: 0.0002, Accuracy: 9955/10000 (99.550%)\n",
      "\n",
      "Epoch 15 of 50 with 31.60 s\n",
      "\n",
      "Train Epoch 16: \n",
      "Learning rate: 0.001\n",
      "Train Epoch: 16 [12800/50000 (26%)]\tLoss: 0.000316\n",
      "Train Epoch: 16 [25600/50000 (51%)]\tLoss: 0.000275\n",
      "Train Epoch: 16 [38400/50000 (77%)]\tLoss: 0.000470\n",
      "\n",
      "On Training set Average loss: 0.0000, Accuracy: 49986/50000 (99.972%)\n",
      "On Val set Average loss: 0.0002, Accuracy: 9951/10000 (99.510%)\n",
      "\n",
      "Epoch 16 of 50 with 31.00 s\n",
      "\n",
      "Train Epoch 17: \n",
      "Learning rate: 0.001\n",
      "Train Epoch: 17 [12800/50000 (26%)]\tLoss: 0.000656\n",
      "Train Epoch: 17 [25600/50000 (51%)]\tLoss: 0.000668\n",
      "Train Epoch: 17 [38400/50000 (77%)]\tLoss: 0.002333\n",
      "\n",
      "On Training set Average loss: 0.0000, Accuracy: 49990/50000 (99.980%)\n",
      "On Val set Average loss: 0.0002, Accuracy: 9950/10000 (99.500%)\n",
      "\n",
      "Epoch 17 of 50 with 30.93 s\n",
      "\n",
      "Train Epoch 18: \n",
      "Learning rate: 0.001\n",
      "Train Epoch: 18 [12800/50000 (26%)]\tLoss: 0.000200\n",
      "Train Epoch: 18 [25600/50000 (51%)]\tLoss: 0.000590\n",
      "Train Epoch: 18 [38400/50000 (77%)]\tLoss: 0.000171\n",
      "\n",
      "On Training set Average loss: 0.0000, Accuracy: 49992/50000 (99.984%)\n",
      "On Val set Average loss: 0.0002, Accuracy: 9955/10000 (99.550%)\n",
      "\n",
      "Epoch 18 of 50 with 30.94 s\n",
      "\n",
      "Train Epoch 19: \n",
      "Learning rate: 0.001\n",
      "Train Epoch: 19 [12800/50000 (26%)]\tLoss: 0.000350\n",
      "Train Epoch: 19 [25600/50000 (51%)]\tLoss: 0.000159\n",
      "Train Epoch: 19 [38400/50000 (77%)]\tLoss: 0.000272\n",
      "\n",
      "On Training set Average loss: 0.0000, Accuracy: 50000/50000 (100.000%)\n",
      "On Val set Average loss: 0.0002, Accuracy: 9956/10000 (99.560%)\n",
      "\n",
      "Epoch 19 of 50 with 30.73 s\n",
      "\n",
      "Train Epoch 20: \n",
      "Learning rate: 0.001\n",
      "Train Epoch: 20 [12800/50000 (26%)]\tLoss: 0.000228\n",
      "Train Epoch: 20 [25600/50000 (51%)]\tLoss: 0.000346\n",
      "Train Epoch: 20 [38400/50000 (77%)]\tLoss: 0.003796\n",
      "\n",
      "On Training set Average loss: 0.0000, Accuracy: 49994/50000 (99.988%)\n",
      "On Val set Average loss: 0.0002, Accuracy: 9958/10000 (99.580%)\n",
      "\n",
      "New best Validation accuracy (99.580%) achieved so far! \n",
      "\n",
      "Epoch 20 of 50 with 31.20 s\n",
      "\n",
      "Train Epoch 21: \n",
      "Learning rate: 0.001\n",
      "Train Epoch: 21 [12800/50000 (26%)]\tLoss: 0.000231\n",
      "Train Epoch: 21 [25600/50000 (51%)]\tLoss: 0.000218\n",
      "Train Epoch: 21 [38400/50000 (77%)]\tLoss: 0.000318\n",
      "\n",
      "On Training set Average loss: 0.0000, Accuracy: 49991/50000 (99.982%)\n",
      "On Val set Average loss: 0.0002, Accuracy: 9956/10000 (99.560%)\n",
      "\n",
      "Epoch 21 of 50 with 31.22 s\n",
      "\n",
      "Train Epoch 22: \n",
      "Learning rate: 0.001\n",
      "Train Epoch: 22 [12800/50000 (26%)]\tLoss: 0.000216\n",
      "Train Epoch: 22 [25600/50000 (51%)]\tLoss: 0.000231\n",
      "Train Epoch: 22 [38400/50000 (77%)]\tLoss: 0.000311\n",
      "\n",
      "On Training set Average loss: 0.0000, Accuracy: 49978/50000 (99.956%)\n",
      "On Val set Average loss: 0.0002, Accuracy: 9936/10000 (99.360%)\n",
      "\n",
      "Epoch 22 of 50 with 31.22 s\n",
      "\n",
      "Train Epoch 23: \n",
      "Learning rate: 0.001\n",
      "Train Epoch: 23 [12800/50000 (26%)]\tLoss: 0.000404\n",
      "Train Epoch: 23 [25600/50000 (51%)]\tLoss: 0.000313\n",
      "Train Epoch: 23 [38400/50000 (77%)]\tLoss: 0.001144\n",
      "\n",
      "On Training set Average loss: 0.0000, Accuracy: 49970/50000 (99.940%)\n",
      "On Val set Average loss: 0.0002, Accuracy: 9938/10000 (99.380%)\n",
      "\n",
      "Epoch 23 of 50 with 30.95 s\n",
      "\n",
      "Train Epoch 24: \n",
      "Learning rate: 0.001\n",
      "Train Epoch: 24 [12800/50000 (26%)]\tLoss: 0.000677\n",
      "Train Epoch: 24 [25600/50000 (51%)]\tLoss: 0.000179\n",
      "Train Epoch: 24 [38400/50000 (77%)]\tLoss: 0.000244\n",
      "\n",
      "On Training set Average loss: 0.0000, Accuracy: 49960/50000 (99.920%)\n",
      "On Val set Average loss: 0.0002, Accuracy: 9932/10000 (99.320%)\n",
      "\n",
      "Epoch 24 of 50 with 30.61 s\n",
      "\n",
      "Train Epoch 25: \n",
      "Learning rate: 0.001\n",
      "Train Epoch: 25 [12800/50000 (26%)]\tLoss: 0.000857\n",
      "Train Epoch: 25 [25600/50000 (51%)]\tLoss: 0.001163\n",
      "Train Epoch: 25 [38400/50000 (77%)]\tLoss: 0.005709\n",
      "\n",
      "On Training set Average loss: 0.0000, Accuracy: 49974/50000 (99.948%)\n",
      "On Val set Average loss: 0.0002, Accuracy: 9949/10000 (99.490%)\n",
      "\n",
      "Epoch 25 of 50 with 30.86 s\n",
      "\n",
      "Train Epoch 26: \n",
      "Learning rate: 0.001\n",
      "Train Epoch: 26 [12800/50000 (26%)]\tLoss: 0.011541\n",
      "Train Epoch: 26 [25600/50000 (51%)]\tLoss: 0.000193\n",
      "Train Epoch: 26 [38400/50000 (77%)]\tLoss: 0.000331\n",
      "\n",
      "On Training set Average loss: 0.0000, Accuracy: 49956/50000 (99.912%)\n",
      "On Val set Average loss: 0.0002, Accuracy: 9930/10000 (99.300%)\n",
      "\n",
      "Epoch 26 of 50 with 30.59 s\n",
      "\n",
      "Train Epoch 27: \n",
      "Learning rate: 0.001\n",
      "Train Epoch: 27 [12800/50000 (26%)]\tLoss: 0.000804\n",
      "Train Epoch: 27 [25600/50000 (51%)]\tLoss: 0.001104\n",
      "Train Epoch: 27 [38400/50000 (77%)]\tLoss: 0.000311\n",
      "\n",
      "On Training set Average loss: 0.0000, Accuracy: 49951/50000 (99.902%)\n",
      "On Val set Average loss: 0.0003, Accuracy: 9902/10000 (99.020%)\n",
      "\n",
      "Epoch 27 of 50 with 30.60 s\n",
      "\n",
      "Train Epoch 28: \n",
      "Learning rate: 0.001\n",
      "Train Epoch: 28 [12800/50000 (26%)]\tLoss: 0.000208\n",
      "Train Epoch: 28 [25600/50000 (51%)]\tLoss: 0.000208\n",
      "Train Epoch: 28 [38400/50000 (77%)]\tLoss: 0.000287\n",
      "\n",
      "On Training set Average loss: 0.0000, Accuracy: 49946/50000 (99.892%)\n",
      "On Val set Average loss: 0.0002, Accuracy: 9951/10000 (99.510%)\n",
      "\n",
      "Epoch 28 of 50 with 30.46 s\n",
      "\n",
      "Train Epoch 29: \n",
      "Learning rate: 0.001\n",
      "Train Epoch: 29 [12800/50000 (26%)]\tLoss: 0.000213\n",
      "Train Epoch: 29 [25600/50000 (51%)]\tLoss: 0.000170\n",
      "Train Epoch: 29 [38400/50000 (77%)]\tLoss: 0.000163\n",
      "\n",
      "On Training set Average loss: 0.0000, Accuracy: 49979/50000 (99.958%)\n",
      "On Val set Average loss: 0.0002, Accuracy: 9948/10000 (99.480%)\n",
      "\n",
      "Epoch 29 of 50 with 30.56 s\n",
      "\n",
      "Train Epoch 30: \n",
      "Learning rate: 0.001\n",
      "Train Epoch: 30 [12800/50000 (26%)]\tLoss: 0.000161\n",
      "Train Epoch: 30 [25600/50000 (51%)]\tLoss: 0.000245\n",
      "Train Epoch: 30 [38400/50000 (77%)]\tLoss: 0.000313\n",
      "\n",
      "On Training set Average loss: 0.0000, Accuracy: 49986/50000 (99.972%)\n",
      "On Val set Average loss: 0.0002, Accuracy: 9943/10000 (99.430%)\n",
      "\n",
      "Epoch 30 of 50 with 30.58 s\n",
      "\n",
      "Train Epoch 31: \n",
      "Learning rate: 0.001\n",
      "Train Epoch: 31 [12800/50000 (26%)]\tLoss: 0.000276\n",
      "Train Epoch: 31 [25600/50000 (51%)]\tLoss: 0.000217\n",
      "Train Epoch: 31 [38400/50000 (77%)]\tLoss: 0.000351\n",
      "\n",
      "On Training set Average loss: 0.0000, Accuracy: 49991/50000 (99.982%)\n",
      "On Val set Average loss: 0.0002, Accuracy: 9946/10000 (99.460%)\n",
      "\n",
      "Epoch 31 of 50 with 30.63 s\n",
      "\n",
      "Train Epoch 32: \n",
      "Learning rate: 0.001\n",
      "Train Epoch: 32 [12800/50000 (26%)]\tLoss: 0.000216\n",
      "Train Epoch: 32 [25600/50000 (51%)]\tLoss: 0.000984\n",
      "Train Epoch: 32 [38400/50000 (77%)]\tLoss: 0.000230\n",
      "\n",
      "On Training set Average loss: 0.0000, Accuracy: 49979/50000 (99.958%)\n",
      "On Val set Average loss: 0.0002, Accuracy: 9949/10000 (99.490%)\n",
      "\n",
      "Epoch 32 of 50 with 30.37 s\n",
      "\n",
      "Train Epoch 33: \n",
      "Learning rate: 0.001\n",
      "Train Epoch: 33 [12800/50000 (26%)]\tLoss: 0.000141\n",
      "Train Epoch: 33 [25600/50000 (51%)]\tLoss: 0.000423\n",
      "Train Epoch: 33 [38400/50000 (77%)]\tLoss: 0.000093\n",
      "\n",
      "On Training set Average loss: 0.0000, Accuracy: 49994/50000 (99.988%)\n",
      "On Val set Average loss: 0.0002, Accuracy: 9955/10000 (99.550%)\n",
      "\n",
      "Epoch 33 of 50 with 30.44 s\n",
      "\n",
      "Train Epoch 34: \n",
      "Learning rate: 0.001\n",
      "Train Epoch: 34 [12800/50000 (26%)]\tLoss: 0.000208\n",
      "Train Epoch: 34 [25600/50000 (51%)]\tLoss: 0.000133\n",
      "Train Epoch: 34 [38400/50000 (77%)]\tLoss: 0.001881\n",
      "\n",
      "On Training set Average loss: 0.0000, Accuracy: 49994/50000 (99.988%)\n",
      "On Val set Average loss: 0.0002, Accuracy: 9953/10000 (99.530%)\n",
      "\n",
      "Epoch 34 of 50 with 30.46 s\n",
      "\n",
      "Train Epoch 35: \n",
      "Learning rate: 0.001\n",
      "Train Epoch: 35 [12800/50000 (26%)]\tLoss: 0.000090\n",
      "Train Epoch: 35 [25600/50000 (51%)]\tLoss: 0.000569\n",
      "Train Epoch: 35 [38400/50000 (77%)]\tLoss: 0.000248\n",
      "\n",
      "On Training set Average loss: 0.0000, Accuracy: 49983/50000 (99.966%)\n",
      "On Val set Average loss: 0.0002, Accuracy: 9958/10000 (99.580%)\n",
      "\n",
      "Epoch 35 of 50 with 30.53 s\n",
      "\n",
      "Train Epoch 36: \n",
      "Learning rate: 0.001\n",
      "Train Epoch: 36 [12800/50000 (26%)]\tLoss: 0.000137\n",
      "Train Epoch: 36 [25600/50000 (51%)]\tLoss: 0.000154\n",
      "Train Epoch: 36 [38400/50000 (77%)]\tLoss: 0.000740\n",
      "\n",
      "On Training set Average loss: 0.0000, Accuracy: 49989/50000 (99.978%)\n",
      "On Val set Average loss: 0.0002, Accuracy: 9948/10000 (99.480%)\n",
      "\n",
      "Epoch 36 of 50 with 30.63 s\n",
      "\n",
      "Train Epoch 37: \n",
      "Learning rate: 0.001\n",
      "Train Epoch: 37 [12800/50000 (26%)]\tLoss: 0.000163\n",
      "Train Epoch: 37 [25600/50000 (51%)]\tLoss: 0.000153\n",
      "Train Epoch: 37 [38400/50000 (77%)]\tLoss: 0.000285\n",
      "\n",
      "On Training set Average loss: 0.0000, Accuracy: 49993/50000 (99.986%)\n",
      "On Val set Average loss: 0.0002, Accuracy: 9952/10000 (99.520%)\n",
      "\n",
      "Epoch 37 of 50 with 30.68 s\n",
      "\n",
      "Train Epoch 38: \n",
      "Learning rate: 0.001\n",
      "Train Epoch: 38 [12800/50000 (26%)]\tLoss: 0.000114\n",
      "Train Epoch: 38 [25600/50000 (51%)]\tLoss: 0.000177\n",
      "Train Epoch: 38 [38400/50000 (77%)]\tLoss: 0.000224\n",
      "\n",
      "On Training set Average loss: 0.0000, Accuracy: 50000/50000 (100.000%)\n",
      "On Val set Average loss: 0.0002, Accuracy: 9952/10000 (99.520%)\n",
      "\n",
      "Epoch 38 of 50 with 30.51 s\n",
      "\n",
      "Train Epoch 39: \n",
      "Learning rate: 0.001\n",
      "Train Epoch: 39 [12800/50000 (26%)]\tLoss: 0.000274\n",
      "Train Epoch: 39 [25600/50000 (51%)]\tLoss: 0.000134\n",
      "Train Epoch: 39 [38400/50000 (77%)]\tLoss: 0.000195\n",
      "\n",
      "On Training set Average loss: 0.0000, Accuracy: 49999/50000 (99.998%)\n",
      "On Val set Average loss: 0.0002, Accuracy: 9954/10000 (99.540%)\n",
      "\n",
      "Epoch 39 of 50 with 30.52 s\n",
      "\n",
      "Train Epoch 40: \n",
      "Learning rate: 0.001\n",
      "Train Epoch: 40 [12800/50000 (26%)]\tLoss: 0.000107\n",
      "Train Epoch: 40 [25600/50000 (51%)]\tLoss: 0.000128\n",
      "Train Epoch: 40 [38400/50000 (77%)]\tLoss: 0.000193\n",
      "\n",
      "On Training set Average loss: 0.0000, Accuracy: 49995/50000 (99.990%)\n",
      "On Val set Average loss: 0.0002, Accuracy: 9957/10000 (99.570%)\n",
      "\n",
      "Epoch 40 of 50 with 30.50 s\n",
      "\n",
      "Train Epoch 41: \n",
      "Learning rate: 0.001\n",
      "Train Epoch: 41 [12800/50000 (26%)]\tLoss: 0.000080\n",
      "Train Epoch: 41 [25600/50000 (51%)]\tLoss: 0.000121\n",
      "Train Epoch: 41 [38400/50000 (77%)]\tLoss: 0.000098\n",
      "\n",
      "On Training set Average loss: 0.0000, Accuracy: 50000/50000 (100.000%)\n",
      "On Val set Average loss: 0.0002, Accuracy: 9948/10000 (99.480%)\n",
      "\n",
      "Epoch 41 of 50 with 30.53 s\n",
      "\n",
      "Train Epoch 42: \n",
      "Learning rate: 0.001\n",
      "Train Epoch: 42 [12800/50000 (26%)]\tLoss: 0.000074\n",
      "Train Epoch: 42 [25600/50000 (51%)]\tLoss: 0.000185\n",
      "Train Epoch: 42 [38400/50000 (77%)]\tLoss: 0.000095\n",
      "\n",
      "On Training set Average loss: 0.0000, Accuracy: 49997/50000 (99.994%)\n",
      "On Val set Average loss: 0.0002, Accuracy: 9950/10000 (99.500%)\n",
      "\n",
      "Epoch 42 of 50 with 30.49 s\n",
      "\n",
      "Train Epoch 43: \n",
      "Learning rate: 0.001\n",
      "Train Epoch: 43 [12800/50000 (26%)]\tLoss: 0.000145\n",
      "Train Epoch: 43 [25600/50000 (51%)]\tLoss: 0.002245\n",
      "Train Epoch: 43 [38400/50000 (77%)]\tLoss: 0.000082\n",
      "\n",
      "On Training set Average loss: 0.0000, Accuracy: 49997/50000 (99.994%)\n",
      "On Val set Average loss: 0.0002, Accuracy: 9951/10000 (99.510%)\n",
      "\n",
      "Epoch 43 of 50 with 30.39 s\n",
      "\n",
      "Train Epoch 44: \n",
      "Learning rate: 0.001\n",
      "Train Epoch: 44 [12800/50000 (26%)]\tLoss: 0.000091\n",
      "Train Epoch: 44 [25600/50000 (51%)]\tLoss: 0.000074\n",
      "Train Epoch: 44 [38400/50000 (77%)]\tLoss: 0.000083\n",
      "\n",
      "On Training set Average loss: 0.0000, Accuracy: 50000/50000 (100.000%)\n",
      "On Val set Average loss: 0.0002, Accuracy: 9958/10000 (99.580%)\n",
      "\n",
      "Epoch 44 of 50 with 30.55 s\n",
      "\n",
      "Train Epoch 45: \n",
      "Learning rate: 0.001\n",
      "Train Epoch: 45 [12800/50000 (26%)]\tLoss: 0.000093\n",
      "Train Epoch: 45 [25600/50000 (51%)]\tLoss: 0.000061\n",
      "Train Epoch: 45 [38400/50000 (77%)]\tLoss: 0.000102\n",
      "\n",
      "On Training set Average loss: 0.0000, Accuracy: 50000/50000 (100.000%)\n",
      "On Val set Average loss: 0.0002, Accuracy: 9960/10000 (99.600%)\n",
      "\n",
      "New best Validation accuracy (99.600%) achieved so far! \n",
      "\n",
      "Epoch 45 of 50 with 30.50 s\n",
      "\n",
      "Train Epoch 46: \n",
      "Learning rate: 0.001\n",
      "Train Epoch: 46 [12800/50000 (26%)]\tLoss: 0.000140\n",
      "Train Epoch: 46 [25600/50000 (51%)]\tLoss: 0.000085\n",
      "Train Epoch: 46 [38400/50000 (77%)]\tLoss: 0.000111\n",
      "\n",
      "On Training set Average loss: 0.0000, Accuracy: 50000/50000 (100.000%)\n",
      "On Val set Average loss: 0.0002, Accuracy: 9959/10000 (99.590%)\n",
      "\n",
      "Epoch 46 of 50 with 30.40 s\n",
      "\n",
      "Train Epoch 47: \n",
      "Learning rate: 0.001\n",
      "Train Epoch: 47 [12800/50000 (26%)]\tLoss: 0.000068\n",
      "Train Epoch: 47 [25600/50000 (51%)]\tLoss: 0.000058\n",
      "Train Epoch: 47 [38400/50000 (77%)]\tLoss: 0.000068\n",
      "\n",
      "On Training set Average loss: 0.0000, Accuracy: 50000/50000 (100.000%)\n",
      "On Val set Average loss: 0.0002, Accuracy: 9955/10000 (99.550%)\n",
      "\n",
      "Epoch 47 of 50 with 30.52 s\n",
      "\n",
      "Train Epoch 48: \n",
      "Learning rate: 0.001\n",
      "Train Epoch: 48 [12800/50000 (26%)]\tLoss: 0.000091\n",
      "Train Epoch: 48 [25600/50000 (51%)]\tLoss: 0.000122\n",
      "Train Epoch: 48 [38400/50000 (77%)]\tLoss: 0.000083\n",
      "\n",
      "On Training set Average loss: 0.0000, Accuracy: 50000/50000 (100.000%)\n",
      "On Val set Average loss: 0.0002, Accuracy: 9960/10000 (99.600%)\n",
      "\n",
      "Epoch 48 of 50 with 30.52 s\n",
      "\n",
      "Train Epoch 49: \n",
      "Learning rate: 0.001\n",
      "Train Epoch: 49 [12800/50000 (26%)]\tLoss: 0.000131\n",
      "Train Epoch: 49 [25600/50000 (51%)]\tLoss: 0.000079\n",
      "Train Epoch: 49 [38400/50000 (77%)]\tLoss: 0.000284\n",
      "\n",
      "On Training set Average loss: 0.0000, Accuracy: 49997/50000 (99.994%)\n",
      "On Val set Average loss: 0.0002, Accuracy: 9959/10000 (99.590%)\n",
      "\n",
      "Epoch 49 of 50 with 30.61 s\n",
      "\n",
      "Train Epoch 50: \n",
      "Learning rate: 0.001\n",
      "Train Epoch: 50 [12800/50000 (26%)]\tLoss: 0.000122\n",
      "Train Epoch: 50 [25600/50000 (51%)]\tLoss: 0.002004\n",
      "Train Epoch: 50 [38400/50000 (77%)]\tLoss: 0.019072\n",
      "\n",
      "On Training set Average loss: 0.0000, Accuracy: 49984/50000 (99.968%)\n",
      "On Val set Average loss: 0.0002, Accuracy: 9952/10000 (99.520%)\n",
      "\n",
      "Epoch 50 of 50 with 30.82 s\n",
      "\n",
      "Model fit in : 1535.72s\n"
     ]
    }
   ],
   "source": [
    "googLeNet, hist = fit_model(\n",
    "    model = googLeNet, \n",
    "    num_epochs = epochs, \n",
    "    train_loader = train_loader, \n",
    "    val_loader = val_loader,\n",
    "    optimizer = optimizer,\n",
    "    criterion = loss_fn,\n",
    "    lr_scheduler = None\n",
    "  )"
   ]
  },
  {
   "cell_type": "code",
   "execution_count": null,
   "metadata": {
    "id": "a7kRX-NsS0vq"
   },
   "outputs": [],
   "source": [
    "save_model(googLeNet, path_first_model)"
   ]
  },
  {
   "cell_type": "code",
   "execution_count": null,
   "metadata": {
    "colab": {
     "base_uri": "https://localhost:8080/"
    },
    "id": "8KvTFsO4S9Li",
    "outputId": "9d967183-d761-4b3e-ccf3-6f893bb56709"
   },
   "outputs": [
    {
     "name": "stdout",
     "output_type": "stream",
     "text": [
      "\n",
      "On Test set Accuracy: 9951/10000 (99.510%)\n",
      "\n"
     ]
    }
   ],
   "source": [
    "images, labels, pred_labels = get_predictions(googLeNet, test_loader)"
   ]
  },
  {
   "cell_type": "markdown",
   "metadata": {
    "id": "k9d_EFG7MN5N"
   },
   "source": [
    "# Visualization after training"
   ]
  },
  {
   "cell_type": "markdown",
   "metadata": {
    "id": "7PvQeKP9WJt6"
   },
   "source": [
    "## Loss and Accuracy Plots"
   ]
  },
  {
   "cell_type": "code",
   "execution_count": null,
   "metadata": {
    "colab": {
     "base_uri": "https://localhost:8080/",
     "height": 281
    },
    "id": "6tYxy0VsMTut",
    "outputId": "f7936580-5762-44ea-d793-9e9e0db8892f"
   },
   "outputs": [
    {
     "data": {
      "image/png": "[encoded data removed]",
      "text/plain": [
       "<Figure size 864x288 with 2 Axes>"
      ]
     },
     "metadata": {
      "needs_background": "light",
      "tags": []
     },
     "output_type": "display_data"
    }
   ],
   "source": [
    "plot_results(epochs, hist, info='GoogLeNet', name='googLeNet_mnist.png')"
   ]
  },
  {
   "cell_type": "code",
   "execution_count": null,
   "metadata": {
    "colab": {
     "base_uri": "https://localhost:8080/"
    },
    "id": "jgCzxjqX-PG-",
    "outputId": "7d055ffd-57d0-440e-9d48-e352803e110f"
   },
   "outputs": [
    {
     "name": "stdout",
     "output_type": "stream",
     "text": [
      "Avg per epoch ptime: 30.71, total 50 epochs ptime: 923.85\n"
     ]
    }
   ],
   "source": [
    "print('Avg per epoch ptime: %.2f, total %d epochs ptime: %.2f' % (\n",
    "        np.mean(hist['per_epoch_time']), epochs, 923.85))"
   ]
  },
  {
   "cell_type": "code",
   "execution_count": null,
   "metadata": {
    "colab": {
     "base_uri": "https://localhost:8080/"
    },
    "id": "Qs54sJaRNvKQ",
    "outputId": "a35f603d-80d3-411e-fe08-412d8b2eb8e6"
   },
   "outputs": [
    {
     "name": "stdout",
     "output_type": "stream",
     "text": [
      "0 - zero class accuracy: 99.79591836734694\n",
      "1 - one class accuracy: 99.82378854625551\n",
      "2 - two class accuracy: 99.90310077519379\n",
      "3 - three class accuracy: 99.8019801980198\n",
      "4 - four class accuracy: 99.08350305498982\n",
      "5 - five class accuracy: 99.32735426008968\n",
      "6 - six class accuracy: 99.37369519832986\n",
      "7 - seven class accuracy: 99.31906614785993\n",
      "8 - eight class accuracy: 99.17864476386036\n",
      "9 - nine class accuracy: 99.40535183349851\n"
     ]
    }
   ],
   "source": [
    "per_class_accuracies = show_per_class_accuracies()"
   ]
  },
  {
   "cell_type": "markdown",
   "metadata": {
    "id": "6GzYEEwcZ11H"
   },
   "source": [
    "# Improvements"
   ]
  },
  {
   "cell_type": "markdown",
   "metadata": {
    "id": "fc4nImBu1m4Y"
   },
   "source": [
    "We visualize images belonging to the same class to apply the approriate transformations to the training dataset "
   ]
  },
  {
   "cell_type": "markdown",
   "metadata": {
    "id": "wmYUc3f61m4Y"
   },
   "source": [
    "These transformations can improve the accuracy of the model as well as its generalization to new data"
   ]
  },
  {
   "cell_type": "code",
   "execution_count": 49,
   "metadata": {
    "colab": {
     "base_uri": "https://localhost:8080/",
     "height": 1000
    },
    "id": "PeM6kMVi1m4Y",
    "outputId": "31248353-0050-4c8a-822a-2a87cbe7c09e"
   },
   "outputs": [
    {
     "name": "stdout",
     "output_type": "stream",
     "text": [
      "Uncomment the following lines to take a look at a grid of 6x6 images belonging to each class\n"
     ]
    }
   ],
   "source": [
    "print('Uncomment the following lines to take a look at a grid of 6x6 images belonging to each class')\n",
    "# for c in classes:\n",
    "#     plot_sample_same_class(c, train_data) "
   ]
  },
  {
   "cell_type": "markdown",
   "metadata": {
    "id": "ZI-xLJlX1m4Y"
   },
   "source": [
    "## Pytorch Transformations"
   ]
  },
  {
   "cell_type": "markdown",
   "metadata": {
    "id": "yTaODs5T1m4Y"
   },
   "source": [
    "After taking a look on the images for each classimport torchvision.transforms.functional as TF\n",
    "import random"
   ]
  },
  {
   "cell_type": "code",
   "execution_count": 50,
   "metadata": {
    "id": "jRoD1X-W1m4Z"
   },
   "outputs": [],
   "source": [
    "train_transforms = transforms.Compose(\n",
    "    [\n",
    "      transforms.Resize(64), # resize images to 64 x 64\n",
    "      transforms.RandomAffine(degrees=15, translate=(0.1,0.1), scale=(0.8,1.2)), #\n",
    "      transforms.ToTensor(),\n",
    "    transforms_normalize\n",
    "    ])\n",
    "val_test_transforms = transforms.Compose(\n",
    "    [\n",
    "        transforms.Resize(64),\n",
    "        transforms.ToTensor(),\n",
    "        transforms_normalize\n",
    "    ])"
   ]
  },
  {
   "cell_type": "code",
   "execution_count": 51,
   "metadata": {
    "colab": {
     "base_uri": "https://localhost:8080/"
    },
    "id": "DE1tpwKGV5J_",
    "outputId": "62b7509d-26a0-475a-8baa-38825dd89587"
   },
   "outputs": [
    {
     "name": "stdout",
     "output_type": "stream",
     "text": [
      "Training dataset: Dataset MNIST\n",
      "    Number of datapoints: 60000\n",
      "    Root location: ../CV_Data\n",
      "    Split: Train\n",
      "    StandardTransform\n",
      "Transform: Compose(\n",
      "               Resize(size=64, interpolation=bilinear)\n",
      "               RandomAffine(degrees=[-15.0, 15.0], translate=(0.1, 0.1), scale=(0.8, 1.2))\n",
      "               ToTensor()\n",
      "               Normalize(mean=(0.13066048920154572,), std=(0.30810779333114624,))\n",
      "           )\n",
      "Test dataset: Dataset MNIST\n",
      "    Number of datapoints: 10000\n",
      "    Root location: ../CV_Data\n",
      "    Split: Test\n",
      "    StandardTransform\n",
      "Transform: Compose(\n",
      "               Resize(size=64, interpolation=bilinear)\n",
      "               ToTensor()\n",
      "               Normalize(mean=(0.13066048920154572,), std=(0.30810779333114624,))\n",
      "           )\n"
     ]
    }
   ],
   "source": [
    "train_data, test_data = load_mnist(train_transforms, val_test_transforms)"
   ]
  },
  {
   "cell_type": "code",
   "execution_count": 52,
   "metadata": {
    "id": "qpGfqyvs1m4a"
   },
   "outputs": [],
   "source": [
    "for c in classes:\n",
    "#     plot_sample_same_class(c, train_data) train_set, val_set = get_train_val_sets(train_data)\n",
    "val_set = copy.deepcopy(val_set)\n",
    "val_set.dataset.transform = val_test_transforms"
   ]
  },
  {
   "cell_type": "code",
   "execution_count": 53,
   "metadata": {
    "id": "0aGfnsgjiPaW"
   },
   "outputs": [],
   "source": [
    "train_loader = DataLoader(dataset=train_set, batch_size=batch_size, shuffle=True)\n",
    "val_loader = DataLoader(dataset=val_set, batch_size=batch_size, shuffle=False)\n",
    "test_loader = DataLoader(dataset=test_data, batch_size=batch_size, shuffle=False)"
   ]
  },
  {
   "cell_type": "markdown",
   "metadata": {
    "id": "dTnAYe5ghQaT"
   },
   "source": [
    "## Visualization of the Data after Augmentation"
   ]
  },
  {
   "cell_type": "code",
   "execution_count": 54,
   "metadata": {
    "colab": {
     "base_uri": "https://localhost:8080/",
     "height": 516
    },
    "id": "UuXdW5DZd3io",
    "outputId": "50ae55bc-193c-4fe2-dd1e-97e15681b597"
   },
   "outputs": [
    {
     "name": "stdout",
     "output_type": "stream",
     "text": [
      "Feature batch shape: torch.Size([128, 1, 64, 64])\n",
      "Labels batch shape: torch.Size([128])\n"
     ]
    },
    {
     "data": {
      "image/png": "[encoded data removed]",
      "text/plain": [
       "<Figure size 576x576 with 9 Axes>"
      ]
     },
     "metadata": {
      "needs_background": "light"
     },
     "output_type": "display_data"
    }
   ],
   "source": [
    "visualize_images_from_loader(train_loader)"
   ]
  },
  {
   "cell_type": "markdown",
   "metadata": {
    "id": "HJFRqWEPiiC-"
   },
   "source": [
    "## Model's Architecture -- GoogleNet improved"
   ]
  },
  {
   "cell_type": "code",
   "execution_count": null,
   "metadata": {
    "id": "Nh_pGBPbiuR1"
   },
   "outputs": [],
   "source": [
    "cfg = {\n",
    "    'VGG_like': ['64unique', 64, 64]\n",
    "}\n",
    "def _vgg_like_conv(in_channels, list_layers):\n",
    "  layers = []\n",
    "  for x in list_layers:\n",
    "      if x == 'M':\n",
    "        layers += [nn.MaxPool2d(kernel_size=3, stride=2, padding=1, dilation=1)]\n",
    "      else:\n",
    "        if x == '64unique':\n",
    "          x = int(x[0:2])\n",
    "          layers += [nn.Conv2d(in_channels, x, stride=2, kernel_size=3, padding=3, bias=False),\n",
    "                      nn.BatchNorm2d(x), # added batch normalizaiton layers\n",
    "                    nn.ReLU(inplace=True)]\n",
    "\n",
    "\n",
    "        else:\n",
    "          layers += [nn.Conv2d(in_channels, x, kernel_size=(3,3), bias=False),\n",
    "                    nn.BatchNorm2d(x), # added batch normalizaiton layers\n",
    "                    nn.ReLU(inplace=True)]\n",
    "      in_channels = x \n",
    "  return nn.Sequential(*layers)"
   ]
  },
  {
   "cell_type": "code",
   "execution_count": null,
   "metadata": {
    "colab": {
     "base_uri": "https://localhost:8080/"
    },
    "id": "bXcKiedwRdHT",
    "outputId": "ca5e1636-9d6c-40e0-81aa-344ac944c22a"
   },
   "outputs": [
    {
     "name": "stderr",
     "output_type": "stream",
     "text": [
      "/usr/local/lib/python3.7/dist-packages/torchvision/models/googlenet.py:79: FutureWarning: The default weight initialization of GoogleNet will be changed in future releases of torchvision. If you wish to keep the old behavior (which leads to long initialization times due to scipy/scipy#11299), please set init_weights=True.\n",
      "  ' due to scipy/scipy#11299), please set init_weights=True.', FutureWarning)\n"
     ]
    },
    {
     "data": {
      "text/plain": [
       "GoogLeNet(\n",
       "  (conv1): Sequential(\n",
       "    (0): Conv2d(1, 64, kernel_size=(3, 3), stride=(2, 2), padding=(3, 3), bias=False)\n",
       "    (1): BatchNorm2d(64, eps=1e-05, momentum=0.1, affine=True, track_running_stats=True)\n",
       "    (2): ReLU(inplace=True)\n",
       "    (3): Conv2d(64, 64, kernel_size=(3, 3), stride=(1, 1), bias=False)\n",
       "    (4): BatchNorm2d(64, eps=1e-05, momentum=0.1, affine=True, track_running_stats=True)\n",
       "    (5): ReLU(inplace=True)\n",
       "    (6): Conv2d(64, 64, kernel_size=(3, 3), stride=(1, 1), bias=False)\n",
       "    (7): BatchNorm2d(64, eps=1e-05, momentum=0.1, affine=True, track_running_stats=True)\n",
       "    (8): ReLU(inplace=True)\n",
       "  )\n",
       "  (maxpool1): MaxPool2d(kernel_size=3, stride=2, padding=0, dilation=1, ceil_mode=True)\n",
       "  (conv2): BasicConv2d(\n",
       "    (conv): Conv2d(64, 64, kernel_size=(1, 1), stride=(1, 1), bias=False)\n",
       "    (bn): BatchNorm2d(64, eps=0.001, momentum=0.1, affine=True, track_running_stats=True)\n",
       "  )\n",
       "  (conv3): BasicConv2d(\n",
       "    (conv): Conv2d(64, 192, kernel_size=(3, 3), stride=(1, 1), padding=(1, 1), bias=False)\n",
       "    (bn): BatchNorm2d(192, eps=0.001, momentum=0.1, affine=True, track_running_stats=True)\n",
       "  )\n",
       "  (maxpool2): MaxPool2d(kernel_size=3, stride=2, padding=0, dilation=1, ceil_mode=True)\n",
       "  (inception3a): Inception(\n",
       "    (branch1): BasicConv2d(\n",
       "      (conv): Conv2d(192, 64, kernel_size=(1, 1), stride=(1, 1), bias=False)\n",
       "      (bn): BatchNorm2d(64, eps=0.001, momentum=0.1, affine=True, track_running_stats=True)\n",
       "    )\n",
       "    (branch2): Sequential(\n",
       "      (0): BasicConv2d(\n",
       "        (conv): Conv2d(192, 96, kernel_size=(1, 1), stride=(1, 1), bias=False)\n",
       "        (bn): BatchNorm2d(96, eps=0.001, momentum=0.1, affine=True, track_running_stats=True)\n",
       "      )\n",
       "      (1): BasicConv2d(\n",
       "        (conv): Conv2d(96, 128, kernel_size=(3, 3), stride=(1, 1), padding=(1, 1), bias=False)\n",
       "        (bn): BatchNorm2d(128, eps=0.001, momentum=0.1, affine=True, track_running_stats=True)\n",
       "      )\n",
       "    )\n",
       "    (branch3): Sequential(\n",
       "      (0): BasicConv2d(\n",
       "        (conv): Conv2d(192, 16, kernel_size=(1, 1), stride=(1, 1), bias=False)\n",
       "        (bn): BatchNorm2d(16, eps=0.001, momentum=0.1, affine=True, track_running_stats=True)\n",
       "      )\n",
       "      (1): BasicConv2d(\n",
       "        (conv): Conv2d(16, 32, kernel_size=(3, 3), stride=(1, 1), padding=(1, 1), bias=False)\n",
       "        (bn): BatchNorm2d(32, eps=0.001, momentum=0.1, affine=True, track_running_stats=True)\n",
       "      )\n",
       "    )\n",
       "    (branch4): Sequential(\n",
       "      (0): MaxPool2d(kernel_size=3, stride=1, padding=1, dilation=1, ceil_mode=True)\n",
       "      (1): BasicConv2d(\n",
       "        (conv): Conv2d(192, 32, kernel_size=(1, 1), stride=(1, 1), bias=False)\n",
       "        (bn): BatchNorm2d(32, eps=0.001, momentum=0.1, affine=True, track_running_stats=True)\n",
       "      )\n",
       "    )\n",
       "  )\n",
       "  (inception3b): Inception(\n",
       "    (branch1): BasicConv2d(\n",
       "      (conv): Conv2d(256, 128, kernel_size=(1, 1), stride=(1, 1), bias=False)\n",
       "      (bn): BatchNorm2d(128, eps=0.001, momentum=0.1, affine=True, track_running_stats=True)\n",
       "    )\n",
       "    (branch2): Sequential(\n",
       "      (0): BasicConv2d(\n",
       "        (conv): Conv2d(256, 128, kernel_size=(1, 1), stride=(1, 1), bias=False)\n",
       "        (bn): BatchNorm2d(128, eps=0.001, momentum=0.1, affine=True, track_running_stats=True)\n",
       "      )\n",
       "      (1): BasicConv2d(\n",
       "        (conv): Conv2d(128, 192, kernel_size=(3, 3), stride=(1, 1), padding=(1, 1), bias=False)\n",
       "        (bn): BatchNorm2d(192, eps=0.001, momentum=0.1, affine=True, track_running_stats=True)\n",
       "      )\n",
       "    )\n",
       "    (branch3): Sequential(\n",
       "      (0): BasicConv2d(\n",
       "        (conv): Conv2d(256, 32, kernel_size=(1, 1), stride=(1, 1), bias=False)\n",
       "        (bn): BatchNorm2d(32, eps=0.001, momentum=0.1, affine=True, track_running_stats=True)\n",
       "      )\n",
       "      (1): BasicConv2d(\n",
       "        (conv): Conv2d(32, 96, kernel_size=(3, 3), stride=(1, 1), padding=(1, 1), bias=False)\n",
       "        (bn): BatchNorm2d(96, eps=0.001, momentum=0.1, affine=True, track_running_stats=True)\n",
       "      )\n",
       "    )\n",
       "    (branch4): Sequential(\n",
       "      (0): MaxPool2d(kernel_size=3, stride=1, padding=1, dilation=1, ceil_mode=True)\n",
       "      (1): BasicConv2d(\n",
       "        (conv): Conv2d(256, 64, kernel_size=(1, 1), stride=(1, 1), bias=False)\n",
       "        (bn): BatchNorm2d(64, eps=0.001, momentum=0.1, affine=True, track_running_stats=True)\n",
       "      )\n",
       "    )\n",
       "  )\n",
       "  (maxpool3): MaxPool2d(kernel_size=3, stride=2, padding=0, dilation=1, ceil_mode=True)\n",
       "  (inception4a): Inception(\n",
       "    (branch1): BasicConv2d(\n",
       "      (conv): Conv2d(480, 192, kernel_size=(1, 1), stride=(1, 1), bias=False)\n",
       "      (bn): BatchNorm2d(192, eps=0.001, momentum=0.1, affine=True, track_running_stats=True)\n",
       "    )\n",
       "    (branch2): Sequential(\n",
       "      (0): BasicConv2d(\n",
       "        (conv): Conv2d(480, 96, kernel_size=(1, 1), stride=(1, 1), bias=False)\n",
       "        (bn): BatchNorm2d(96, eps=0.001, momentum=0.1, affine=True, track_running_stats=True)\n",
       "      )\n",
       "      (1): BasicConv2d(\n",
       "        (conv): Conv2d(96, 208, kernel_size=(3, 3), stride=(1, 1), padding=(1, 1), bias=False)\n",
       "        (bn): BatchNorm2d(208, eps=0.001, momentum=0.1, affine=True, track_running_stats=True)\n",
       "      )\n",
       "    )\n",
       "    (branch3): Sequential(\n",
       "      (0): BasicConv2d(\n",
       "        (conv): Conv2d(480, 16, kernel_size=(1, 1), stride=(1, 1), bias=False)\n",
       "        (bn): BatchNorm2d(16, eps=0.001, momentum=0.1, affine=True, track_running_stats=True)\n",
       "      )\n",
       "      (1): BasicConv2d(\n",
       "        (conv): Conv2d(16, 48, kernel_size=(3, 3), stride=(1, 1), padding=(1, 1), bias=False)\n",
       "        (bn): BatchNorm2d(48, eps=0.001, momentum=0.1, affine=True, track_running_stats=True)\n",
       "      )\n",
       "    )\n",
       "    (branch4): Sequential(\n",
       "      (0): MaxPool2d(kernel_size=3, stride=1, padding=1, dilation=1, ceil_mode=True)\n",
       "      (1): BasicConv2d(\n",
       "        (conv): Conv2d(480, 64, kernel_size=(1, 1), stride=(1, 1), bias=False)\n",
       "        (bn): BatchNorm2d(64, eps=0.001, momentum=0.1, affine=True, track_running_stats=True)\n",
       "      )\n",
       "    )\n",
       "  )\n",
       "  (inception4b): Inception(\n",
       "    (branch1): BasicConv2d(\n",
       "      (conv): Conv2d(512, 160, kernel_size=(1, 1), stride=(1, 1), bias=False)\n",
       "      (bn): BatchNorm2d(160, eps=0.001, momentum=0.1, affine=True, track_running_stats=True)\n",
       "    )\n",
       "    (branch2): Sequential(\n",
       "      (0): BasicConv2d(\n",
       "        (conv): Conv2d(512, 112, kernel_size=(1, 1), stride=(1, 1), bias=False)\n",
       "        (bn): BatchNorm2d(112, eps=0.001, momentum=0.1, affine=True, track_running_stats=True)\n",
       "      )\n",
       "      (1): BasicConv2d(\n",
       "        (conv): Conv2d(112, 224, kernel_size=(3, 3), stride=(1, 1), padding=(1, 1), bias=False)\n",
       "        (bn): BatchNorm2d(224, eps=0.001, momentum=0.1, affine=True, track_running_stats=True)\n",
       "      )\n",
       "    )\n",
       "    (branch3): Sequential(\n",
       "      (0): BasicConv2d(\n",
       "        (conv): Conv2d(512, 24, kernel_size=(1, 1), stride=(1, 1), bias=False)\n",
       "        (bn): BatchNorm2d(24, eps=0.001, momentum=0.1, affine=True, track_running_stats=True)\n",
       "      )\n",
       "      (1): BasicConv2d(\n",
       "        (conv): Conv2d(24, 64, kernel_size=(3, 3), stride=(1, 1), padding=(1, 1), bias=False)\n",
       "        (bn): BatchNorm2d(64, eps=0.001, momentum=0.1, affine=True, track_running_stats=True)\n",
       "      )\n",
       "    )\n",
       "    (branch4): Sequential(\n",
       "      (0): MaxPool2d(kernel_size=3, stride=1, padding=1, dilation=1, ceil_mode=True)\n",
       "      (1): BasicConv2d(\n",
       "        (conv): Conv2d(512, 64, kernel_size=(1, 1), stride=(1, 1), bias=False)\n",
       "        (bn): BatchNorm2d(64, eps=0.001, momentum=0.1, affine=True, track_running_stats=True)\n",
       "      )\n",
       "    )\n",
       "  )\n",
       "  (inception4c): Inception(\n",
       "    (branch1): BasicConv2d(\n",
       "      (conv): Conv2d(512, 128, kernel_size=(1, 1), stride=(1, 1), bias=False)\n",
       "      (bn): BatchNorm2d(128, eps=0.001, momentum=0.1, affine=True, track_running_stats=True)\n",
       "    )\n",
       "    (branch2): Sequential(\n",
       "      (0): BasicConv2d(\n",
       "        (conv): Conv2d(512, 128, kernel_size=(1, 1), stride=(1, 1), bias=False)\n",
       "        (bn): BatchNorm2d(128, eps=0.001, momentum=0.1, affine=True, track_running_stats=True)\n",
       "      )\n",
       "      (1): BasicConv2d(\n",
       "        (conv): Conv2d(128, 256, kernel_size=(3, 3), stride=(1, 1), padding=(1, 1), bias=False)\n",
       "        (bn): BatchNorm2d(256, eps=0.001, momentum=0.1, affine=True, track_running_stats=True)\n",
       "      )\n",
       "    )\n",
       "    (branch3): Sequential(\n",
       "      (0): BasicConv2d(\n",
       "        (conv): Conv2d(512, 24, kernel_size=(1, 1), stride=(1, 1), bias=False)\n",
       "        (bn): BatchNorm2d(24, eps=0.001, momentum=0.1, affine=True, track_running_stats=True)\n",
       "      )\n",
       "      (1): BasicConv2d(\n",
       "        (conv): Conv2d(24, 64, kernel_size=(3, 3), stride=(1, 1), padding=(1, 1), bias=False)\n",
       "        (bn): BatchNorm2d(64, eps=0.001, momentum=0.1, affine=True, track_running_stats=True)\n",
       "      )\n",
       "    )\n",
       "    (branch4): Sequential(\n",
       "      (0): MaxPool2d(kernel_size=3, stride=1, padding=1, dilation=1, ceil_mode=True)\n",
       "      (1): BasicConv2d(\n",
       "        (conv): Conv2d(512, 64, kernel_size=(1, 1), stride=(1, 1), bias=False)\n",
       "        (bn): BatchNorm2d(64, eps=0.001, momentum=0.1, affine=True, track_running_stats=True)\n",
       "      )\n",
       "    )\n",
       "  )\n",
       "  (inception4d): Inception(\n",
       "    (branch1): BasicConv2d(\n",
       "      (conv): Conv2d(512, 112, kernel_size=(1, 1), stride=(1, 1), bias=False)\n",
       "      (bn): BatchNorm2d(112, eps=0.001, momentum=0.1, affine=True, track_running_stats=True)\n",
       "    )\n",
       "    (branch2): Sequential(\n",
       "      (0): BasicConv2d(\n",
       "        (conv): Conv2d(512, 144, kernel_size=(1, 1), stride=(1, 1), bias=False)\n",
       "        (bn): BatchNorm2d(144, eps=0.001, momentum=0.1, affine=True, track_running_stats=True)\n",
       "      )\n",
       "      (1): BasicConv2d(\n",
       "        (conv): Conv2d(144, 288, kernel_size=(3, 3), stride=(1, 1), padding=(1, 1), bias=False)\n",
       "        (bn): BatchNorm2d(288, eps=0.001, momentum=0.1, affine=True, track_running_stats=True)\n",
       "      )\n",
       "    )\n",
       "    (branch3): Sequential(\n",
       "      (0): BasicConv2d(\n",
       "        (conv): Conv2d(512, 32, kernel_size=(1, 1), stride=(1, 1), bias=False)\n",
       "        (bn): BatchNorm2d(32, eps=0.001, momentum=0.1, affine=True, track_running_stats=True)\n",
       "      )\n",
       "      (1): BasicConv2d(\n",
       "        (conv): Conv2d(32, 64, kernel_size=(3, 3), stride=(1, 1), padding=(1, 1), bias=False)\n",
       "        (bn): BatchNorm2d(64, eps=0.001, momentum=0.1, affine=True, track_running_stats=True)\n",
       "      )\n",
       "    )\n",
       "    (branch4): Sequential(\n",
       "      (0): MaxPool2d(kernel_size=3, stride=1, padding=1, dilation=1, ceil_mode=True)\n",
       "      (1): BasicConv2d(\n",
       "        (conv): Conv2d(512, 64, kernel_size=(1, 1), stride=(1, 1), bias=False)\n",
       "        (bn): BatchNorm2d(64, eps=0.001, momentum=0.1, affine=True, track_running_stats=True)\n",
       "      )\n",
       "    )\n",
       "  )\n",
       "  (inception4e): Inception(\n",
       "    (branch1): BasicConv2d(\n",
       "      (conv): Conv2d(528, 256, kernel_size=(1, 1), stride=(1, 1), bias=False)\n",
       "      (bn): BatchNorm2d(256, eps=0.001, momentum=0.1, affine=True, track_running_stats=True)\n",
       "    )\n",
       "    (branch2): Sequential(\n",
       "      (0): BasicConv2d(\n",
       "        (conv): Conv2d(528, 160, kernel_size=(1, 1), stride=(1, 1), bias=False)\n",
       "        (bn): BatchNorm2d(160, eps=0.001, momentum=0.1, affine=True, track_running_stats=True)\n",
       "      )\n",
       "      (1): BasicConv2d(\n",
       "        (conv): Conv2d(160, 320, kernel_size=(3, 3), stride=(1, 1), padding=(1, 1), bias=False)\n",
       "        (bn): BatchNorm2d(320, eps=0.001, momentum=0.1, affine=True, track_running_stats=True)\n",
       "      )\n",
       "    )\n",
       "    (branch3): Sequential(\n",
       "      (0): BasicConv2d(\n",
       "        (conv): Conv2d(528, 32, kernel_size=(1, 1), stride=(1, 1), bias=False)\n",
       "        (bn): BatchNorm2d(32, eps=0.001, momentum=0.1, affine=True, track_running_stats=True)\n",
       "      )\n",
       "      (1): BasicConv2d(\n",
       "        (conv): Conv2d(32, 128, kernel_size=(3, 3), stride=(1, 1), padding=(1, 1), bias=False)\n",
       "        (bn): BatchNorm2d(128, eps=0.001, momentum=0.1, affine=True, track_running_stats=True)\n",
       "      )\n",
       "    )\n",
       "    (branch4): Sequential(\n",
       "      (0): MaxPool2d(kernel_size=3, stride=1, padding=1, dilation=1, ceil_mode=True)\n",
       "      (1): BasicConv2d(\n",
       "        (conv): Conv2d(528, 128, kernel_size=(1, 1), stride=(1, 1), bias=False)\n",
       "        (bn): BatchNorm2d(128, eps=0.001, momentum=0.1, affine=True, track_running_stats=True)\n",
       "      )\n",
       "    )\n",
       "  )\n",
       "  (maxpool4): MaxPool2d(kernel_size=2, stride=2, padding=0, dilation=1, ceil_mode=True)\n",
       "  (inception5a): Inception(\n",
       "    (branch1): BasicConv2d(\n",
       "      (conv): Conv2d(832, 256, kernel_size=(1, 1), stride=(1, 1), bias=False)\n",
       "      (bn): BatchNorm2d(256, eps=0.001, momentum=0.1, affine=True, track_running_stats=True)\n",
       "    )\n",
       "    (branch2): Sequential(\n",
       "      (0): BasicConv2d(\n",
       "        (conv): Conv2d(832, 160, kernel_size=(1, 1), stride=(1, 1), bias=False)\n",
       "        (bn): BatchNorm2d(160, eps=0.001, momentum=0.1, affine=True, track_running_stats=True)\n",
       "      )\n",
       "      (1): BasicConv2d(\n",
       "        (conv): Conv2d(160, 320, kernel_size=(3, 3), stride=(1, 1), padding=(1, 1), bias=False)\n",
       "        (bn): BatchNorm2d(320, eps=0.001, momentum=0.1, affine=True, track_running_stats=True)\n",
       "      )\n",
       "    )\n",
       "    (branch3): Sequential(\n",
       "      (0): BasicConv2d(\n",
       "        (conv): Conv2d(832, 32, kernel_size=(1, 1), stride=(1, 1), bias=False)\n",
       "        (bn): BatchNorm2d(32, eps=0.001, momentum=0.1, affine=True, track_running_stats=True)\n",
       "      )\n",
       "      (1): BasicConv2d(\n",
       "        (conv): Conv2d(32, 128, kernel_size=(3, 3), stride=(1, 1), padding=(1, 1), bias=False)\n",
       "        (bn): BatchNorm2d(128, eps=0.001, momentum=0.1, affine=True, track_running_stats=True)\n",
       "      )\n",
       "    )\n",
       "    (branch4): Sequential(\n",
       "      (0): MaxPool2d(kernel_size=3, stride=1, padding=1, dilation=1, ceil_mode=True)\n",
       "      (1): BasicConv2d(\n",
       "        (conv): Conv2d(832, 128, kernel_size=(1, 1), stride=(1, 1), bias=False)\n",
       "        (bn): BatchNorm2d(128, eps=0.001, momentum=0.1, affine=True, track_running_stats=True)\n",
       "      )\n",
       "    )\n",
       "  )\n",
       "  (inception5b): Inception(\n",
       "    (branch1): BasicConv2d(\n",
       "      (conv): Conv2d(832, 384, kernel_size=(1, 1), stride=(1, 1), bias=False)\n",
       "      (bn): BatchNorm2d(384, eps=0.001, momentum=0.1, affine=True, track_running_stats=True)\n",
       "    )\n",
       "    (branch2): Sequential(\n",
       "      (0): BasicConv2d(\n",
       "        (conv): Conv2d(832, 192, kernel_size=(1, 1), stride=(1, 1), bias=False)\n",
       "        (bn): BatchNorm2d(192, eps=0.001, momentum=0.1, affine=True, track_running_stats=True)\n",
       "      )\n",
       "      (1): BasicConv2d(\n",
       "        (conv): Conv2d(192, 384, kernel_size=(3, 3), stride=(1, 1), padding=(1, 1), bias=False)\n",
       "        (bn): BatchNorm2d(384, eps=0.001, momentum=0.1, affine=True, track_running_stats=True)\n",
       "      )\n",
       "    )\n",
       "    (branch3): Sequential(\n",
       "      (0): BasicConv2d(\n",
       "        (conv): Conv2d(832, 48, kernel_size=(1, 1), stride=(1, 1), bias=False)\n",
       "        (bn): BatchNorm2d(48, eps=0.001, momentum=0.1, affine=True, track_running_stats=True)\n",
       "      )\n",
       "      (1): BasicConv2d(\n",
       "        (conv): Conv2d(48, 128, kernel_size=(3, 3), stride=(1, 1), padding=(1, 1), bias=False)\n",
       "        (bn): BatchNorm2d(128, eps=0.001, momentum=0.1, affine=True, track_running_stats=True)\n",
       "      )\n",
       "    )\n",
       "    (branch4): Sequential(\n",
       "      (0): MaxPool2d(kernel_size=3, stride=1, padding=1, dilation=1, ceil_mode=True)\n",
       "      (1): BasicConv2d(\n",
       "        (conv): Conv2d(832, 128, kernel_size=(1, 1), stride=(1, 1), bias=False)\n",
       "        (bn): BatchNorm2d(128, eps=0.001, momentum=0.1, affine=True, track_running_stats=True)\n",
       "      )\n",
       "    )\n",
       "  )\n",
       "  (avgpool): AdaptiveAvgPool2d(output_size=(1, 1))\n",
       "  (dropout): Dropout(p=0.2, inplace=False)\n",
       "  (fc): Linear(in_features=1024, out_features=10, bias=True)\n",
       ")"
      ]
     },
     "execution_count": 87,
     "metadata": {
      "tags": []
     },
     "output_type": "execute_result"
    }
   ],
   "source": [
    "googLeNet_imp = torchvision.models.googlenet(pretrained=False, aux_logits=False)\n",
    "final_layer = nn.Linear(googLeNet_imp.fc.in_features , 10)\n",
    "googLeNet_imp.fc = final_layer\n",
    "googLeNet_imp.conv1 = _vgg_like_conv(1, cfg['VGG_like'])\n",
    "googLeNet_imp.to(device)"
   ]
  },
  {
   "cell_type": "code",
   "execution_count": null,
   "metadata": {
    "colab": {
     "base_uri": "https://localhost:8080/"
    },
    "id": "qFfFyVyi1m4d",
    "outputId": "669aa976-49e9-4091-c980-a9f914085ef9"
   },
   "outputs": [
    {
     "name": "stdout",
     "output_type": "stream",
     "text": [
      "The model has 5,675,306 trainable parameters\n"
     ]
    }
   ],
   "source": [
    "\n",
    "print(f'The model has {count_parameters(googLeNet_imp):,} trainable parameters')"
   ]
  },
  {
   "cell_type": "markdown",
   "metadata": {
    "id": "gn3KzdsFS3Eh"
   },
   "source": [
    "## Label Smoothing"
   ]
  },
  {
   "cell_type": "code",
   "execution_count": null,
   "metadata": {
    "id": "kqYHwST0S5QZ"
   },
   "outputs": [],
   "source": [
    "class LabelSmoothingLoss(torch.nn.Module):\n",
    "    def __init__(self, smoothing: float = 0.1, \n",
    "                 reduction=\"mean\", weight=None):\n",
    "        super(LabelSmoothingLoss, self).__init__()\n",
    "        self.smoothing   = smoothing\n",
    "        self.reduction = reduction\n",
    "        self.weight    = weight\n",
    "\n",
    "    def reduce_loss(self, loss):\n",
    "        return loss.mean() if self.reduction == 'mean' else loss.sum() \\\n",
    "         if self.reduction == 'sum' else loss\n",
    "\n",
    "    def linear_combination(self, x, y):\n",
    "        return self.smoothing * x + (1 - self.smoothing) * y\n",
    "\n",
    "    def forward(self, preds, target):\n",
    "        assert 0 <= self.smoothing < 1\n",
    "\n",
    "        if self.weight is not None:\n",
    "            self.weight = self.weight.to(preds.device)\n",
    "\n",
    "        n = preds.size(-1)\n",
    "        log_preds = F.log_softmax(preds, dim=-1)\n",
    "        loss = self.reduce_loss(-log_preds.sum(dim=-1))\n",
    "        nll = F.nll_loss(\n",
    "            log_preds, target, reduction=self.reduction, weight=self.weight\n",
    "        )\n",
    "        return self.linear_combination(loss / n, nll)"
   ]
  },
  {
   "cell_type": "markdown",
   "metadata": {
    "id": "6LBIt3GSQlFI"
   },
   "source": [
    "I also used a multi step learning rate scheduler to decrease the learning rate after certain epochs"
   ]
  },
  {
   "cell_type": "code",
   "execution_count": null,
   "metadata": {
    "id": "d4OR-01O1m4d"
   },
   "outputs": [],
   "source": [
    "epochs = 50   \n",
    "base_lr = 0.01\n",
    "learning_rate_decay = 0.1    \n",
    "\n",
    "optimizer = torch.optim.SGD(googLeNet_imp.parameters(), lr=base_lr, momentum=0.9, weight_decay=4e-5)\n",
    "# loss_fn = nn.CrossEntropyLoss()\n",
    "loss_fn = LabelSmoothingLoss(smoothing = 0.1, reduction=\"mean\")\n",
    "\n",
    "lr_scheduler = torch.optim.lr_scheduler.MultiStepLR(optimizer, milestones=[5,27,40,47], gamma=learning_rate_decay)"
   ]
  },
  {
   "cell_type": "code",
   "execution_count": null,
   "metadata": {
    "colab": {
     "base_uri": "https://localhost:8080/"
    },
    "id": "qtkJJRaied7-",
    "outputId": "447d0fcf-3d89-444d-b4ac-4219cef85996"
   },
   "outputs": [
    {
     "name": "stdout",
     "output_type": "stream",
     "text": [
      "\n",
      "Train Epoch 1: \n",
      "Current learning rate: [0.01]\n",
      "Train Epoch: 1 [12800/50000 (26%)]\tLoss: 0.602070\n",
      "Train Epoch: 1 [25600/50000 (51%)]\tLoss: 0.572404\n",
      "Train Epoch: 1 [38400/50000 (77%)]\tLoss: 0.566718\n",
      "\n",
      "On Training set Average loss: 0.0054, Accuracy: 46089/50000 (92.178%)\n",
      "On Val set Average loss: 0.0044, Accuracy: 9792/10000 (97.920%)\n",
      "\n",
      "New best Validation accuracy (97.920%) achieved so far! \n",
      "\n",
      "Epoch 1 of 50 with 41.11 s\n",
      "\n",
      "Train Epoch 2: \n",
      "Current learning rate: [0.01]\n",
      "Train Epoch: 2 [12800/50000 (26%)]\tLoss: 0.570776\n",
      "Train Epoch: 2 [25600/50000 (51%)]\tLoss: 0.518924\n",
      "Train Epoch: 2 [38400/50000 (77%)]\tLoss: 0.520814\n",
      "\n",
      "On Training set Average loss: 0.0044, Accuracy: 49019/50000 (98.038%)\n",
      "On Val set Average loss: 0.0042, Accuracy: 9905/10000 (99.050%)\n",
      "\n",
      "New best Validation accuracy (99.050%) achieved so far! \n",
      "\n",
      "Epoch 2 of 50 with 40.82 s\n",
      "\n",
      "Train Epoch 3: \n",
      "Current learning rate: [0.01]\n",
      "Train Epoch: 3 [12800/50000 (26%)]\tLoss: 0.546085\n",
      "Train Epoch: 3 [25600/50000 (51%)]\tLoss: 0.522733\n",
      "Train Epoch: 3 [38400/50000 (77%)]\tLoss: 0.513261\n",
      "\n",
      "On Training set Average loss: 0.0043, Accuracy: 49209/50000 (98.418%)\n",
      "On Val set Average loss: 0.0042, Accuracy: 9908/10000 (99.080%)\n",
      "\n",
      "New best Validation accuracy (99.080%) achieved so far! \n",
      "\n",
      "Epoch 3 of 50 with 40.12 s\n",
      "\n",
      "Train Epoch 4: \n",
      "Current learning rate: [0.01]\n",
      "Train Epoch: 4 [12800/50000 (26%)]\tLoss: 0.529080\n",
      "Train Epoch: 4 [25600/50000 (51%)]\tLoss: 0.541434\n",
      "Train Epoch: 4 [38400/50000 (77%)]\tLoss: 0.545755\n",
      "\n",
      "On Training set Average loss: 0.0042, Accuracy: 49359/50000 (98.718%)\n",
      "On Val set Average loss: 0.0041, Accuracy: 9918/10000 (99.180%)\n",
      "\n",
      "New best Validation accuracy (99.180%) achieved so far! \n",
      "\n",
      "Epoch 4 of 50 with 40.03 s\n",
      "\n",
      "Train Epoch 5: \n",
      "Current learning rate: [0.01]\n",
      "Train Epoch: 5 [12800/50000 (26%)]\tLoss: 0.534279\n",
      "Train Epoch: 5 [25600/50000 (51%)]\tLoss: 0.517036\n",
      "Train Epoch: 5 [38400/50000 (77%)]\tLoss: 0.527723\n",
      "\n",
      "On Training set Average loss: 0.0042, Accuracy: 49444/50000 (98.888%)\n",
      "On Val set Average loss: 0.0041, Accuracy: 9921/10000 (99.210%)\n",
      "\n",
      "New best Validation accuracy (99.210%) achieved so far! \n",
      "\n",
      "Epoch 5 of 50 with 39.85 s\n",
      "\n",
      "Train Epoch 6: \n",
      "Current learning rate: [0.001]\n",
      "Train Epoch: 6 [12800/50000 (26%)]\tLoss: 0.516929\n",
      "Train Epoch: 6 [25600/50000 (51%)]\tLoss: 0.506013\n",
      "Train Epoch: 6 [38400/50000 (77%)]\tLoss: 0.521763\n",
      "\n",
      "On Training set Average loss: 0.0041, Accuracy: 49632/50000 (99.264%)\n",
      "On Val set Average loss: 0.0040, Accuracy: 9965/10000 (99.650%)\n",
      "\n",
      "New best Validation accuracy (99.650%) achieved so far! \n",
      "\n",
      "Epoch 6 of 50 with 39.99 s\n",
      "\n",
      "Train Epoch 7: \n",
      "Current learning rate: [0.001]\n",
      "Train Epoch: 7 [12800/50000 (26%)]\tLoss: 0.503335\n",
      "Train Epoch: 7 [25600/50000 (51%)]\tLoss: 0.505013\n",
      "Train Epoch: 7 [38400/50000 (77%)]\tLoss: 0.526091\n",
      "\n",
      "On Training set Average loss: 0.0040, Accuracy: 49698/50000 (99.396%)\n",
      "On Val set Average loss: 0.0040, Accuracy: 9960/10000 (99.600%)\n",
      "\n",
      "Epoch 7 of 50 with 40.76 s\n",
      "\n",
      "Train Epoch 8: \n",
      "Current learning rate: [0.001]\n",
      "Train Epoch: 8 [12800/50000 (26%)]\tLoss: 0.512107\n",
      "Train Epoch: 8 [25600/50000 (51%)]\tLoss: 0.512444\n",
      "Train Epoch: 8 [38400/50000 (77%)]\tLoss: 0.504344\n",
      "\n",
      "On Training set Average loss: 0.0040, Accuracy: 49716/50000 (99.432%)\n",
      "On Val set Average loss: 0.0040, Accuracy: 9964/10000 (99.640%)\n",
      "\n",
      "Epoch 8 of 50 with 40.67 s\n",
      "\n",
      "Train Epoch 9: \n",
      "Current learning rate: [0.001]\n",
      "Train Epoch: 9 [12800/50000 (26%)]\tLoss: 0.503496\n",
      "Train Epoch: 9 [25600/50000 (51%)]\tLoss: 0.536862\n",
      "Train Epoch: 9 [38400/50000 (77%)]\tLoss: 0.522665\n",
      "\n",
      "On Training set Average loss: 0.0040, Accuracy: 49694/50000 (99.388%)\n",
      "On Val set Average loss: 0.0040, Accuracy: 9962/10000 (99.620%)\n",
      "\n",
      "Epoch 9 of 50 with 40.91 s\n",
      "\n",
      "Train Epoch 10: \n",
      "Current learning rate: [0.001]\n",
      "Train Epoch: 10 [12800/50000 (26%)]\tLoss: 0.503520\n",
      "Train Epoch: 10 [25600/50000 (51%)]\tLoss: 0.509125\n",
      "Train Epoch: 10 [38400/50000 (77%)]\tLoss: 0.509567\n",
      "\n",
      "On Training set Average loss: 0.0040, Accuracy: 49749/50000 (99.498%)\n",
      "On Val set Average loss: 0.0040, Accuracy: 9956/10000 (99.560%)\n",
      "\n",
      "Epoch 10 of 50 with 41.01 s\n",
      "\n",
      "Train Epoch 11: \n",
      "Current learning rate: [0.001]\n",
      "Train Epoch: 11 [12800/50000 (26%)]\tLoss: 0.554476\n",
      "Train Epoch: 11 [25600/50000 (51%)]\tLoss: 0.503721\n",
      "Train Epoch: 11 [38400/50000 (77%)]\tLoss: 0.519677\n",
      "\n",
      "On Training set Average loss: 0.0040, Accuracy: 49717/50000 (99.434%)\n",
      "On Val set Average loss: 0.0040, Accuracy: 9961/10000 (99.610%)\n",
      "\n",
      "Epoch 11 of 50 with 40.19 s\n",
      "\n",
      "Train Epoch 12: \n",
      "Current learning rate: [0.001]\n",
      "Train Epoch: 12 [12800/50000 (26%)]\tLoss: 0.520252\n",
      "Train Epoch: 12 [25600/50000 (51%)]\tLoss: 0.530389\n",
      "Train Epoch: 12 [38400/50000 (77%)]\tLoss: 0.527964\n",
      "\n",
      "On Training set Average loss: 0.0040, Accuracy: 49755/50000 (99.510%)\n",
      "On Val set Average loss: 0.0040, Accuracy: 9955/10000 (99.550%)\n",
      "\n",
      "Epoch 12 of 50 with 39.54 s\n",
      "\n",
      "Train Epoch 13: \n",
      "Current learning rate: [0.001]\n",
      "Train Epoch: 13 [12800/50000 (26%)]\tLoss: 0.503154\n",
      "Train Epoch: 13 [25600/50000 (51%)]\tLoss: 0.524072\n",
      "Train Epoch: 13 [38400/50000 (77%)]\tLoss: 0.509936\n",
      "\n",
      "On Training set Average loss: 0.0040, Accuracy: 49754/50000 (99.508%)\n",
      "On Val set Average loss: 0.0040, Accuracy: 9960/10000 (99.600%)\n",
      "\n",
      "Epoch 13 of 50 with 39.65 s\n",
      "\n",
      "Train Epoch 14: \n",
      "Current learning rate: [0.001]\n",
      "Train Epoch: 14 [12800/50000 (26%)]\tLoss: 0.503195\n",
      "Train Epoch: 14 [25600/50000 (51%)]\tLoss: 0.510696\n",
      "Train Epoch: 14 [38400/50000 (77%)]\tLoss: 0.528777\n",
      "\n",
      "On Training set Average loss: 0.0040, Accuracy: 49764/50000 (99.528%)\n",
      "On Val set Average loss: 0.0040, Accuracy: 9959/10000 (99.590%)\n",
      "\n",
      "Epoch 14 of 50 with 39.63 s\n",
      "\n",
      "Train Epoch 15: \n",
      "Current learning rate: [0.001]\n",
      "Train Epoch: 15 [12800/50000 (26%)]\tLoss: 0.504598\n",
      "Train Epoch: 15 [25600/50000 (51%)]\tLoss: 0.542631\n",
      "Train Epoch: 15 [38400/50000 (77%)]\tLoss: 0.505637\n",
      "\n",
      "On Training set Average loss: 0.0040, Accuracy: 49766/50000 (99.532%)\n",
      "On Val set Average loss: 0.0040, Accuracy: 9963/10000 (99.630%)\n",
      "\n",
      "Epoch 15 of 50 with 40.34 s\n",
      "\n",
      "Train Epoch 16: \n",
      "Current learning rate: [0.001]\n",
      "Train Epoch: 16 [12800/50000 (26%)]\tLoss: 0.522230\n",
      "Train Epoch: 16 [25600/50000 (51%)]\tLoss: 0.508422\n",
      "Train Epoch: 16 [38400/50000 (77%)]\tLoss: 0.503203\n",
      "\n",
      "On Training set Average loss: 0.0040, Accuracy: 49774/50000 (99.548%)\n",
      "On Val set Average loss: 0.0040, Accuracy: 9961/10000 (99.610%)\n",
      "\n",
      "Epoch 16 of 50 with 40.78 s\n",
      "\n",
      "Train Epoch 17: \n",
      "Current learning rate: [0.001]\n",
      "Train Epoch: 17 [12800/50000 (26%)]\tLoss: 0.514680\n",
      "Train Epoch: 17 [25600/50000 (51%)]\tLoss: 0.502880\n",
      "Train Epoch: 17 [38400/50000 (77%)]\tLoss: 0.506941\n",
      "\n",
      "On Training set Average loss: 0.0040, Accuracy: 49764/50000 (99.528%)\n",
      "On Val set Average loss: 0.0040, Accuracy: 9959/10000 (99.590%)\n",
      "\n",
      "Epoch 17 of 50 with 39.88 s\n",
      "\n",
      "Train Epoch 18: \n",
      "Current learning rate: [0.001]\n",
      "Train Epoch: 18 [12800/50000 (26%)]\tLoss: 0.502384\n",
      "Train Epoch: 18 [25600/50000 (51%)]\tLoss: 0.513715\n",
      "Train Epoch: 18 [38400/50000 (77%)]\tLoss: 0.538249\n",
      "\n",
      "On Training set Average loss: 0.0040, Accuracy: 49796/50000 (99.592%)\n",
      "On Val set Average loss: 0.0040, Accuracy: 9963/10000 (99.630%)\n",
      "\n",
      "Epoch 18 of 50 with 39.92 s\n",
      "\n",
      "Train Epoch 19: \n",
      "Current learning rate: [0.001]\n",
      "Train Epoch: 19 [12800/50000 (26%)]\tLoss: 0.502795\n",
      "Train Epoch: 19 [25600/50000 (51%)]\tLoss: 0.520658\n",
      "Train Epoch: 19 [38400/50000 (77%)]\tLoss: 0.506273\n",
      "\n",
      "On Training set Average loss: 0.0040, Accuracy: 49766/50000 (99.532%)\n",
      "On Val set Average loss: 0.0040, Accuracy: 9960/10000 (99.600%)\n",
      "\n",
      "Epoch 19 of 50 with 39.92 s\n",
      "\n",
      "Train Epoch 20: \n",
      "Current learning rate: [0.001]\n",
      "Train Epoch: 20 [12800/50000 (26%)]\tLoss: 0.506249\n",
      "Train Epoch: 20 [25600/50000 (51%)]\tLoss: 0.535445\n",
      "Train Epoch: 20 [38400/50000 (77%)]\tLoss: 0.503487\n",
      "\n",
      "On Training set Average loss: 0.0040, Accuracy: 49766/50000 (99.532%)\n",
      "On Val set Average loss: 0.0040, Accuracy: 9966/10000 (99.660%)\n",
      "\n",
      "New best Validation accuracy (99.660%) achieved so far! \n",
      "\n",
      "Epoch 20 of 50 with 39.96 s\n",
      "\n",
      "Train Epoch 21: \n",
      "Current learning rate: [0.001]\n",
      "Train Epoch: 21 [12800/50000 (26%)]\tLoss: 0.523217\n",
      "Train Epoch: 21 [25600/50000 (51%)]\tLoss: 0.511375\n",
      "Train Epoch: 21 [38400/50000 (77%)]\tLoss: 0.505263\n",
      "\n",
      "On Training set Average loss: 0.0040, Accuracy: 49782/50000 (99.564%)\n",
      "On Val set Average loss: 0.0040, Accuracy: 9959/10000 (99.590%)\n",
      "\n",
      "Epoch 21 of 50 with 40.08 s\n",
      "\n",
      "Train Epoch 22: \n",
      "Current learning rate: [0.001]\n",
      "Train Epoch: 22 [12800/50000 (26%)]\tLoss: 0.504448\n",
      "Train Epoch: 22 [25600/50000 (51%)]\tLoss: 0.504004\n",
      "Train Epoch: 22 [38400/50000 (77%)]\tLoss: 0.505336\n",
      "\n",
      "On Training set Average loss: 0.0040, Accuracy: 49784/50000 (99.568%)\n",
      "On Val set Average loss: 0.0040, Accuracy: 9964/10000 (99.640%)\n",
      "\n",
      "Epoch 22 of 50 with 40.10 s\n",
      "\n",
      "Train Epoch 23: \n",
      "Current learning rate: [0.001]\n",
      "Train Epoch: 23 [12800/50000 (26%)]\tLoss: 0.518633\n",
      "Train Epoch: 23 [25600/50000 (51%)]\tLoss: 0.508307\n",
      "Train Epoch: 23 [38400/50000 (77%)]\tLoss: 0.510725\n",
      "\n",
      "On Training set Average loss: 0.0040, Accuracy: 49765/50000 (99.530%)\n",
      "On Val set Average loss: 0.0040, Accuracy: 9956/10000 (99.560%)\n",
      "\n",
      "Epoch 23 of 50 with 40.10 s\n",
      "\n",
      "Train Epoch 24: \n",
      "Current learning rate: [0.001]\n",
      "Train Epoch: 24 [12800/50000 (26%)]\tLoss: 0.505197\n",
      "Train Epoch: 24 [25600/50000 (51%)]\tLoss: 0.502968\n",
      "Train Epoch: 24 [38400/50000 (77%)]\tLoss: 0.507764\n",
      "\n",
      "On Training set Average loss: 0.0040, Accuracy: 49809/50000 (99.618%)\n",
      "On Val set Average loss: 0.0040, Accuracy: 9960/10000 (99.600%)\n",
      "\n",
      "Epoch 24 of 50 with 40.21 s\n",
      "\n",
      "Train Epoch 25: \n",
      "Current learning rate: [0.001]\n",
      "Train Epoch: 25 [12800/50000 (26%)]\tLoss: 0.503725\n",
      "Train Epoch: 25 [25600/50000 (51%)]\tLoss: 0.505589\n",
      "Train Epoch: 25 [38400/50000 (77%)]\tLoss: 0.502832\n",
      "\n",
      "On Training set Average loss: 0.0040, Accuracy: 49796/50000 (99.592%)\n",
      "On Val set Average loss: 0.0040, Accuracy: 9964/10000 (99.640%)\n",
      "\n",
      "Epoch 25 of 50 with 40.01 s\n",
      "\n",
      "Train Epoch 26: \n",
      "Current learning rate: [0.001]\n",
      "Train Epoch: 26 [12800/50000 (26%)]\tLoss: 0.506609\n",
      "Train Epoch: 26 [25600/50000 (51%)]\tLoss: 0.507665\n",
      "Train Epoch: 26 [38400/50000 (77%)]\tLoss: 0.508117\n",
      "\n",
      "On Training set Average loss: 0.0040, Accuracy: 49799/50000 (99.598%)\n",
      "On Val set Average loss: 0.0040, Accuracy: 9962/10000 (99.620%)\n",
      "\n",
      "Epoch 26 of 50 with 40.17 s\n",
      "\n",
      "Train Epoch 27: \n",
      "Current learning rate: [0.001]\n",
      "Train Epoch: 27 [12800/50000 (26%)]\tLoss: 0.533273\n",
      "Train Epoch: 27 [25600/50000 (51%)]\tLoss: 0.514216\n",
      "Train Epoch: 27 [38400/50000 (77%)]\tLoss: 0.503460\n",
      "\n",
      "On Training set Average loss: 0.0040, Accuracy: 49832/50000 (99.664%)\n",
      "On Val set Average loss: 0.0040, Accuracy: 9959/10000 (99.590%)\n",
      "\n",
      "Epoch 27 of 50 with 39.98 s\n",
      "\n",
      "Train Epoch 28: \n",
      "Current learning rate: [0.0001]\n",
      "Train Epoch: 28 [12800/50000 (26%)]\tLoss: 0.533632\n",
      "Train Epoch: 28 [25600/50000 (51%)]\tLoss: 0.504391\n",
      "Train Epoch: 28 [38400/50000 (77%)]\tLoss: 0.505610\n",
      "\n",
      "On Training set Average loss: 0.0040, Accuracy: 49820/50000 (99.640%)\n",
      "On Val set Average loss: 0.0040, Accuracy: 9963/10000 (99.630%)\n",
      "\n",
      "Epoch 28 of 50 with 40.13 s\n",
      "\n",
      "Train Epoch 29: \n",
      "Current learning rate: [0.0001]\n",
      "Train Epoch: 29 [12800/50000 (26%)]\tLoss: 0.505287\n",
      "Train Epoch: 29 [25600/50000 (51%)]\tLoss: 0.542937\n",
      "Train Epoch: 29 [38400/50000 (77%)]\tLoss: 0.503634\n",
      "\n",
      "On Training set Average loss: 0.0040, Accuracy: 49831/50000 (99.662%)\n",
      "On Val set Average loss: 0.0040, Accuracy: 9964/10000 (99.640%)\n",
      "\n",
      "Epoch 29 of 50 with 40.04 s\n",
      "\n",
      "Train Epoch 30: \n",
      "Current learning rate: [0.0001]\n",
      "Train Epoch: 30 [12800/50000 (26%)]\tLoss: 0.502407\n",
      "Train Epoch: 30 [25600/50000 (51%)]\tLoss: 0.504356\n",
      "Train Epoch: 30 [38400/50000 (77%)]\tLoss: 0.503089\n",
      "\n",
      "On Training set Average loss: 0.0040, Accuracy: 49835/50000 (99.670%)\n",
      "On Val set Average loss: 0.0040, Accuracy: 9962/10000 (99.620%)\n",
      "\n",
      "Epoch 30 of 50 with 40.63 s\n",
      "\n",
      "Train Epoch 31: \n",
      "Current learning rate: [0.0001]\n",
      "Train Epoch: 31 [12800/50000 (26%)]\tLoss: 0.524062\n",
      "Train Epoch: 31 [25600/50000 (51%)]\tLoss: 0.504903\n",
      "Train Epoch: 31 [38400/50000 (77%)]\tLoss: 0.503082\n",
      "\n",
      "On Training set Average loss: 0.0040, Accuracy: 49818/50000 (99.636%)\n",
      "On Val set Average loss: 0.0040, Accuracy: 9960/10000 (99.600%)\n",
      "\n",
      "Epoch 31 of 50 with 40.52 s\n",
      "\n",
      "Train Epoch 32: \n",
      "Current learning rate: [0.0001]\n",
      "Train Epoch: 32 [12800/50000 (26%)]\tLoss: 0.503423\n",
      "Train Epoch: 32 [25600/50000 (51%)]\tLoss: 0.504991\n",
      "Train Epoch: 32 [38400/50000 (77%)]\tLoss: 0.510338\n",
      "\n",
      "On Training set Average loss: 0.0040, Accuracy: 49845/50000 (99.690%)\n",
      "On Val set Average loss: 0.0040, Accuracy: 9961/10000 (99.610%)\n",
      "\n",
      "Epoch 32 of 50 with 40.45 s\n",
      "\n",
      "Train Epoch 33: \n",
      "Current learning rate: [0.0001]\n",
      "Train Epoch: 33 [12800/50000 (26%)]\tLoss: 0.502519\n",
      "Train Epoch: 33 [25600/50000 (51%)]\tLoss: 0.518387\n",
      "Train Epoch: 33 [38400/50000 (77%)]\tLoss: 0.504264\n",
      "\n",
      "On Training set Average loss: 0.0040, Accuracy: 49842/50000 (99.684%)\n",
      "On Val set Average loss: 0.0040, Accuracy: 9964/10000 (99.640%)\n",
      "\n",
      "Epoch 33 of 50 with 40.22 s\n",
      "\n",
      "Train Epoch 34: \n",
      "Current learning rate: [0.0001]\n",
      "Train Epoch: 34 [12800/50000 (26%)]\tLoss: 0.507201\n",
      "Train Epoch: 34 [25600/50000 (51%)]\tLoss: 0.502857\n",
      "Train Epoch: 34 [38400/50000 (77%)]\tLoss: 0.538724\n",
      "\n",
      "On Training set Average loss: 0.0040, Accuracy: 49820/50000 (99.640%)\n",
      "On Val set Average loss: 0.0040, Accuracy: 9963/10000 (99.630%)\n",
      "\n",
      "Epoch 34 of 50 with 40.41 s\n",
      "\n",
      "Train Epoch 35: \n",
      "Current learning rate: [0.0001]\n",
      "Train Epoch: 35 [12800/50000 (26%)]\tLoss: 0.507854\n",
      "Train Epoch: 35 [25600/50000 (51%)]\tLoss: 0.502933\n",
      "Train Epoch: 35 [38400/50000 (77%)]\tLoss: 0.509331\n",
      "\n",
      "On Training set Average loss: 0.0040, Accuracy: 49858/50000 (99.716%)\n",
      "On Val set Average loss: 0.0040, Accuracy: 9961/10000 (99.610%)\n",
      "\n",
      "Epoch 35 of 50 with 40.31 s\n",
      "\n",
      "Train Epoch 36: \n",
      "Current learning rate: [0.0001]\n",
      "Train Epoch: 36 [12800/50000 (26%)]\tLoss: 0.504797\n",
      "Train Epoch: 36 [25600/50000 (51%)]\tLoss: 0.510281\n",
      "Train Epoch: 36 [38400/50000 (77%)]\tLoss: 0.502700\n",
      "\n",
      "On Training set Average loss: 0.0040, Accuracy: 49849/50000 (99.698%)\n",
      "On Val set Average loss: 0.0040, Accuracy: 9962/10000 (99.620%)\n",
      "\n",
      "Epoch 36 of 50 with 40.31 s\n",
      "\n",
      "Train Epoch 37: \n",
      "Current learning rate: [0.0001]\n",
      "Train Epoch: 37 [12800/50000 (26%)]\tLoss: 0.527942\n",
      "Train Epoch: 37 [25600/50000 (51%)]\tLoss: 0.503035\n",
      "Train Epoch: 37 [38400/50000 (77%)]\tLoss: 0.504206\n",
      "\n",
      "On Training set Average loss: 0.0040, Accuracy: 49829/50000 (99.658%)\n",
      "On Val set Average loss: 0.0040, Accuracy: 9962/10000 (99.620%)\n",
      "\n",
      "Epoch 37 of 50 with 40.00 s\n",
      "\n",
      "Train Epoch 38: \n",
      "Current learning rate: [0.0001]\n",
      "Train Epoch: 38 [12800/50000 (26%)]\tLoss: 0.510043\n",
      "Train Epoch: 38 [25600/50000 (51%)]\tLoss: 0.503758\n",
      "Train Epoch: 38 [38400/50000 (77%)]\tLoss: 0.503372\n",
      "\n",
      "On Training set Average loss: 0.0040, Accuracy: 49845/50000 (99.690%)\n",
      "On Val set Average loss: 0.0040, Accuracy: 9962/10000 (99.620%)\n",
      "\n",
      "Epoch 38 of 50 with 39.86 s\n",
      "\n",
      "Train Epoch 39: \n",
      "Current learning rate: [0.0001]\n",
      "Train Epoch: 39 [12800/50000 (26%)]\tLoss: 0.517339\n",
      "Train Epoch: 39 [25600/50000 (51%)]\tLoss: 0.524660\n",
      "Train Epoch: 39 [38400/50000 (77%)]\tLoss: 0.503905\n",
      "\n",
      "On Training set Average loss: 0.0040, Accuracy: 49828/50000 (99.656%)\n",
      "On Val set Average loss: 0.0040, Accuracy: 9962/10000 (99.620%)\n",
      "\n",
      "Epoch 39 of 50 with 39.88 s\n",
      "\n",
      "Train Epoch 40: \n",
      "Current learning rate: [0.0001]\n",
      "Train Epoch: 40 [12800/50000 (26%)]\tLoss: 0.502915\n",
      "Train Epoch: 40 [25600/50000 (51%)]\tLoss: 0.512373\n",
      "Train Epoch: 40 [38400/50000 (77%)]\tLoss: 0.525512\n",
      "\n",
      "On Training set Average loss: 0.0040, Accuracy: 49835/50000 (99.670%)\n",
      "On Val set Average loss: 0.0040, Accuracy: 9960/10000 (99.600%)\n",
      "\n",
      "Epoch 40 of 50 with 39.79 s\n",
      "\n",
      "Train Epoch 41: \n",
      "Current learning rate: [1e-05]\n",
      "Train Epoch: 41 [12800/50000 (26%)]\tLoss: 0.506782\n",
      "Train Epoch: 41 [25600/50000 (51%)]\tLoss: 0.504829\n",
      "Train Epoch: 41 [38400/50000 (77%)]\tLoss: 0.502610\n",
      "\n",
      "On Training set Average loss: 0.0040, Accuracy: 49853/50000 (99.706%)\n",
      "On Val set Average loss: 0.0040, Accuracy: 9965/10000 (99.650%)\n",
      "\n",
      "Epoch 41 of 50 with 39.68 s\n",
      "\n",
      "Train Epoch 42: \n",
      "Current learning rate: [1e-05]\n",
      "Train Epoch: 42 [12800/50000 (26%)]\tLoss: 0.535417\n",
      "Train Epoch: 42 [25600/50000 (51%)]\tLoss: 0.511727\n",
      "Train Epoch: 42 [38400/50000 (77%)]\tLoss: 0.503929\n",
      "\n",
      "On Training set Average loss: 0.0040, Accuracy: 49830/50000 (99.660%)\n",
      "On Val set Average loss: 0.0040, Accuracy: 9962/10000 (99.620%)\n",
      "\n",
      "Epoch 42 of 50 with 39.73 s\n",
      "\n",
      "Train Epoch 43: \n",
      "Current learning rate: [1e-05]\n",
      "Train Epoch: 43 [12800/50000 (26%)]\tLoss: 0.531257\n",
      "Train Epoch: 43 [25600/50000 (51%)]\tLoss: 0.523971\n",
      "Train Epoch: 43 [38400/50000 (77%)]\tLoss: 0.506259\n",
      "\n",
      "On Training set Average loss: 0.0040, Accuracy: 49839/50000 (99.678%)\n",
      "On Val set Average loss: 0.0040, Accuracy: 9960/10000 (99.600%)\n",
      "\n",
      "Epoch 43 of 50 with 39.63 s\n",
      "\n",
      "Train Epoch 44: \n",
      "Current learning rate: [1e-05]\n",
      "Train Epoch: 44 [12800/50000 (26%)]\tLoss: 0.505407\n",
      "Train Epoch: 44 [25600/50000 (51%)]\tLoss: 0.520452\n",
      "Train Epoch: 44 [38400/50000 (77%)]\tLoss: 0.502972\n",
      "\n",
      "On Training set Average loss: 0.0040, Accuracy: 49846/50000 (99.692%)\n",
      "On Val set Average loss: 0.0040, Accuracy: 9965/10000 (99.650%)\n",
      "\n",
      "Epoch 44 of 50 with 39.67 s\n",
      "\n",
      "Train Epoch 45: \n",
      "Current learning rate: [1e-05]\n",
      "Train Epoch: 45 [12800/50000 (26%)]\tLoss: 0.507113\n",
      "Train Epoch: 45 [25600/50000 (51%)]\tLoss: 0.502499\n",
      "Train Epoch: 45 [38400/50000 (77%)]\tLoss: 0.523097\n",
      "\n",
      "On Training set Average loss: 0.0040, Accuracy: 49842/50000 (99.684%)\n",
      "On Val set Average loss: 0.0040, Accuracy: 9961/10000 (99.610%)\n",
      "\n",
      "Epoch 45 of 50 with 39.46 s\n",
      "\n",
      "Train Epoch 46: \n",
      "Current learning rate: [1e-05]\n",
      "Train Epoch: 46 [12800/50000 (26%)]\tLoss: 0.534615\n",
      "Train Epoch: 46 [25600/50000 (51%)]\tLoss: 0.523047\n",
      "Train Epoch: 46 [38400/50000 (77%)]\tLoss: 0.502489\n",
      "\n",
      "On Training set Average loss: 0.0040, Accuracy: 49847/50000 (99.694%)\n",
      "On Val set Average loss: 0.0040, Accuracy: 9964/10000 (99.640%)\n",
      "\n",
      "Epoch 46 of 50 with 39.54 s\n",
      "\n",
      "Train Epoch 47: \n",
      "Current learning rate: [1e-05]\n",
      "Train Epoch: 47 [12800/50000 (26%)]\tLoss: 0.505146\n",
      "Train Epoch: 47 [25600/50000 (51%)]\tLoss: 0.519197\n",
      "Train Epoch: 47 [38400/50000 (77%)]\tLoss: 0.503013\n",
      "\n",
      "On Training set Average loss: 0.0040, Accuracy: 49832/50000 (99.664%)\n",
      "On Val set Average loss: 0.0040, Accuracy: 9961/10000 (99.610%)\n",
      "\n",
      "Epoch 47 of 50 with 39.30 s\n",
      "\n",
      "Train Epoch 48: \n",
      "Current learning rate: [1.0000000000000002e-06]\n",
      "Train Epoch: 48 [12800/50000 (26%)]\tLoss: 0.505451\n",
      "Train Epoch: 48 [25600/50000 (51%)]\tLoss: 0.529173\n",
      "Train Epoch: 48 [38400/50000 (77%)]\tLoss: 0.502636\n",
      "\n",
      "On Training set Average loss: 0.0040, Accuracy: 49835/50000 (99.670%)\n",
      "On Val set Average loss: 0.0040, Accuracy: 9960/10000 (99.600%)\n",
      "\n",
      "Epoch 48 of 50 with 39.38 s\n",
      "\n",
      "Train Epoch 49: \n",
      "Current learning rate: [1.0000000000000002e-06]\n",
      "Train Epoch: 49 [12800/50000 (26%)]\tLoss: 0.503935\n",
      "Train Epoch: 49 [25600/50000 (51%)]\tLoss: 0.502444\n",
      "Train Epoch: 49 [38400/50000 (77%)]\tLoss: 0.503695\n",
      "\n",
      "On Training set Average loss: 0.0040, Accuracy: 49844/50000 (99.688%)\n",
      "On Val set Average loss: 0.0040, Accuracy: 9961/10000 (99.610%)\n",
      "\n",
      "Epoch 49 of 50 with 39.43 s\n",
      "\n",
      "Train Epoch 50: \n",
      "Current learning rate: [1.0000000000000002e-06]\n",
      "Train Epoch: 50 [12800/50000 (26%)]\tLoss: 0.503558\n",
      "Train Epoch: 50 [25600/50000 (51%)]\tLoss: 0.535102\n",
      "Train Epoch: 50 [38400/50000 (77%)]\tLoss: 0.502509\n",
      "\n",
      "On Training set Average loss: 0.0040, Accuracy: 49836/50000 (99.672%)\n",
      "On Val set Average loss: 0.0040, Accuracy: 9962/10000 (99.620%)\n",
      "\n",
      "Epoch 50 of 50 with 39.32 s\n",
      "\n",
      "Model fit in : 2003.42s\n"
     ]
    }
   ],
   "source": [
    "googLeNet_imp, hist = fit_model(\n",
    "    model = googLeNet_imp, \n",
    "    num_epochs = epochs, \n",
    "    train_loader = train_loader, \n",
    "    val_loader = val_loader,\n",
    "    optimizer = optimizer,\n",
    "    criterion = loss_fn,\n",
    "    lr_scheduler = lr_scheduler\n",
    "  )"
   ]
  },
  {
   "cell_type": "code",
   "execution_count": null,
   "metadata": {
    "id": "aB7nSZtwe7rJ"
   },
   "outputs": [],
   "source": [
    "# torch.save(vgg_new16.state_dict(), 'vgg_new16_mnist.pth')"
   ]
  },
  {
   "cell_type": "code",
   "execution_count": null,
   "metadata": {
    "id": "UMSqIHkcTeXL"
   },
   "outputs": [],
   "source": [
    "# load_model(vgg_new16, 'vgg_new16_mnist.pth')\n",
    "save_model(googLeNet_imp, path_improved_model)"
   ]
  },
  {
   "cell_type": "code",
   "execution_count": null,
   "metadata": {
    "id": "t9SlX7D0t7Nz"
   },
   "outputs": [],
   "source": [
    "# torch.save(googLeNet_imp.state_dict(), )"
   ]
  },
  {
   "cell_type": "code",
   "execution_count": null,
   "metadata": {
    "colab": {
     "base_uri": "https://localhost:8080/"
    },
    "id": "CwyYQAABt46E",
    "outputId": "ac60d3c6-b49a-4a0f-8167-4494cae3f243"
   },
   "outputs": [
    {
     "name": "stdout",
     "output_type": "stream",
     "text": [
      "\n",
      "On Test set Accuracy: 9965/10000 (99.650%)\n",
      "\n"
     ]
    }
   ],
   "source": [
    "images, labels, pred_labels = get_predictions(googLeNet_imp, test_loader)"
   ]
  },
  {
   "cell_type": "code",
   "execution_count": null,
   "metadata": {
    "id": "kD9J5LrUekvz"
   },
   "outputs": [],
   "source": [
    "# images, labels, pred_labels = get_predictions(vgg_new16, test_loader)"
   ]
  },
  {
   "cell_type": "markdown",
   "metadata": {
    "id": "GrwkTfzEhUOp"
   },
   "source": [
    "## Visualization after training"
   ]
  },
  {
   "cell_type": "code",
   "execution_count": null,
   "metadata": {
    "id": "iqpiV6heiKDz"
   },
   "outputs": [],
   "source": [
    "classes = get_classes(test_data)"
   ]
  },
  {
   "cell_type": "code",
   "execution_count": null,
   "metadata": {
    "colab": {
     "base_uri": "https://localhost:8080/",
     "height": 281
    },
    "id": "Lb-w1ODZAulQ",
    "outputId": "1a55b14e-a341-49a7-b8c5-7c9c2ee42b03"
   },
   "outputs": [
    {
     "data": {
      "image/png": "[encoded data removed]",
      "text/plain": [
       "<Figure size 864x288 with 2 Axes>"
      ]
     },
     "metadata": {
      "needs_background": "light",
      "tags": []
     },
     "output_type": "display_data"
    }
   ],
   "source": [
    "plot_results(epochs, hist, info='GoogLeNet Improved', name=\"googlenet_imp_mnist.png\")"
   ]
  },
  {
   "cell_type": "code",
   "execution_count": null,
   "metadata": {
    "colab": {
     "base_uri": "https://localhost:8080/"
    },
    "id": "T8XZtnriTc6t",
    "outputId": "1fcacf18-b9ab-4347-e2e0-ef8972ef469a"
   },
   "outputs": [
    {
     "name": "stdout",
     "output_type": "stream",
     "text": [
      "Avg per epoch ptime: 40.07, total 50 epochs ptime: 5224.42\n"
     ]
    }
   ],
   "source": [
    "print('Avg per epoch ptime: %.2f, total %d epochs ptime: %.2f' % (\n",
    "        np.mean(hist['per_epoch_time']), epochs, 5224.42))"
   ]
  },
  {
   "cell_type": "markdown",
   "metadata": {
    "id": "VIuQcoE9hueQ"
   },
   "source": [
    "### Confusion matrix"
   ]
  },
  {
   "cell_type": "code",
   "execution_count": null,
   "metadata": {
    "colab": {
     "base_uri": "https://localhost:8080/",
     "height": 580
    },
    "id": "HZom0tdahBek",
    "outputId": "9931d73d-5598-488d-a275-5306f7968067"
   },
   "outputs": [
    {
     "data": {
      "image/png": "[encoded data removed]",
      "text/plain": [
       "<Figure size 720x720 with 2 Axes>"
      ]
     },
     "metadata": {
      "needs_background": "light",
      "tags": []
     },
     "output_type": "display_data"
    }
   ],
   "source": [
    "cm = plot_confusion_matrix(labels, pred_labels, classes)"
   ]
  },
  {
   "cell_type": "code",
   "execution_count": null,
   "metadata": {
    "colab": {
     "base_uri": "https://localhost:8080/"
    },
    "id": "R5R-Ydk5TzMa",
    "outputId": "eb2f0909-2049-4ee9-b542-546b9fc0f4c8"
   },
   "outputs": [
    {
     "name": "stdout",
     "output_type": "stream",
     "text": [
      "0 - zero class accuracy: 99.79591836734694\n",
      "1 - one class accuracy: 99.91189427312776\n",
      "2 - two class accuracy: 99.6124031007752\n",
      "3 - three class accuracy: 99.9009900990099\n",
      "4 - four class accuracy: 99.38900203665987\n",
      "5 - five class accuracy: 99.43946188340807\n",
      "6 - six class accuracy: 99.37369519832986\n",
      "7 - seven class accuracy: 99.61089494163424\n",
      "8 - eight class accuracy: 99.7946611909651\n",
      "9 - nine class accuracy: 99.60356788899901\n"
     ]
    }
   ],
   "source": [
    "per_class_accuracies = show_per_class_accuracies()"
   ]
  },
  {
   "cell_type": "markdown",
   "metadata": {
    "id": "ahrta7YpT8_E"
   },
   "source": [
    "### Incorrect Examples"
   ]
  },
  {
   "cell_type": "code",
   "execution_count": null,
   "metadata": {
    "colab": {
     "base_uri": "https://localhost:8080/",
     "height": 932
    },
    "id": "6CvUEMi2T_yV",
    "outputId": "7504fff5-50f7-4fc9-c6d4-824867f67869"
   },
   "outputs": [
    {
     "data": {
      "image/png": "[encoded data removed]",
      "text/plain": [
       "<Figure size 1152x1152 with 9 Axes>"
      ]
     },
     "metadata": {
      "needs_background": "light",
      "tags": []
     },
     "output_type": "display_data"
    }
   ],
   "source": [
    "plot_incorrect_examples_from_top5_classes(10,cm, per_class_accuracies)"
   ]
  },
  {
   "cell_type": "markdown",
   "metadata": {
    "id": "1QzlP1LshsCv"
   },
   "source": [
    "### PCA"
   ]
  },
  {
   "cell_type": "code",
   "execution_count": null,
   "metadata": {
    "id": "WBcdHhYwhtZO"
   },
   "outputs": [],
   "source": [
    "outputs, labels = get_representations(googLeNet_imp, test_loader)"
   ]
  },
  {
   "cell_type": "code",
   "execution_count": null,
   "metadata": {
    "colab": {
     "base_uri": "https://localhost:8080/"
    },
    "id": "jMbIsStCh0ZC",
    "outputId": "856141e0-0648-482c-c590-44be427a3bc1"
   },
   "outputs": [
    {
     "data": {
      "text/plain": [
       "tensor([[-0.4565, -0.4068, -0.4698, -0.4098, -0.4430, -0.3998, -0.4303,  4.0682,\n",
       "         -0.4044, -0.5051]])"
      ]
     },
     "execution_count": 103,
     "metadata": {
      "tags": []
     },
     "output_type": "execute_result"
    }
   ],
   "source": [
    "outputs[:1]"
   ]
  },
  {
   "cell_type": "code",
   "execution_count": null,
   "metadata": {
    "colab": {
     "base_uri": "https://localhost:8080/",
     "height": 592
    },
    "id": "aNbcM_Ykh3fY",
    "outputId": "ca79beee-b8e4-4b35-b721-74ce238f8528"
   },
   "outputs": [
    {
     "data": {
      "image/png": "[encoded data removed]",
      "text/plain": [
       "<Figure size 720x720 with 1 Axes>"
      ]
     },
     "metadata": {
      "needs_background": "light",
      "tags": []
     },
     "output_type": "display_data"
    }
   ],
   "source": [
    "output_pca_data = get_pca(outputs)\n",
    "plot_representations(output_pca_data, labels, classes)"
   ]
  },
  {
   "cell_type": "code",
   "execution_count": null,
   "metadata": {
    "id": "QnX94EGbh5MA"
   },
   "outputs": [],
   "source": []
  }
 ],
 "metadata": {
  "accelerator": "GPU",
  "colab": {
   "collapsed_sections": [],
   "name": "GoogLeNet_mnist.ipynb",
   "provenance": [],
   "toc_visible": true
  },
  "kernelspec": {
   "display_name": "Python 3",
   "language": "python",
   "name": "python3"
  },
  "language_info": {
   "codemirror_mode": {
    "name": "ipython",
    "version": 3
   },
   "file_extension": ".py",
   "mimetype": "text/x-python",
   "name": "python",
   "nbconvert_exporter": "python",
   "pygments_lexer": "ipython3",
   "version": "3.8.8"
  }
 },
 "nbformat": 4,
 "nbformat_minor": 4
}
